{
 "cells": [
  {
   "cell_type": "markdown",
   "id": "cfef47bd",
   "metadata": {
    "papermill": {
     "duration": 0.011623,
     "end_time": "2024-04-09T23:20:31.350576",
     "exception": false,
     "start_time": "2024-04-09T23:20:31.338953",
     "status": "completed"
    },
    "tags": []
   },
   "source": [
    "# **DSETM-Assignment 5 - Building a Handwritten Digit Classification Model using TMNIST Dataset**"
   ]
  },
  {
   "cell_type": "markdown",
   "id": "da418786",
   "metadata": {
    "papermill": {
     "duration": 0.010508,
     "end_time": "2024-04-09T23:20:31.372101",
     "exception": false,
     "start_time": "2024-04-09T23:20:31.361593",
     "status": "completed"
    },
    "tags": []
   },
   "source": [
    "Contributor - Shreyas S Sreedhar"
   ]
  },
  {
   "cell_type": "markdown",
   "id": "b36b2d2a",
   "metadata": {
    "papermill": {
     "duration": 0.010537,
     "end_time": "2024-04-09T23:20:31.393179",
     "exception": false,
     "start_time": "2024-04-09T23:20:31.382642",
     "status": "completed"
    },
    "tags": []
   },
   "source": [
    "# **Introduction**"
   ]
  },
  {
   "cell_type": "markdown",
   "id": "55fef6c2",
   "metadata": {
    "papermill": {
     "duration": 0.010607,
     "end_time": "2024-04-09T23:20:31.415728",
     "exception": false,
     "start_time": "2024-04-09T23:20:31.405121",
     "status": "completed"
    },
    "tags": []
   },
   "source": [
    "\n",
    "Introduction\n",
    "Handwritten digit classification is an essential task in machine learning and computer vision. It involves teaching a computer to recognize and categorize handwritten numbers accurately. In this tutorial, we'll explore how to build a handwritten digit classification model using the TMNIST dataset. TMNIST offers a unique twist compared to the traditional MNIST dataset by including images of digits written in various font styles, providing a broader perspective on handwritten digit classification."
   ]
  },
  {
   "cell_type": "markdown",
   "id": "a9d906a1",
   "metadata": {
    "papermill": {
     "duration": 0.010505,
     "end_time": "2024-04-09T23:20:31.436825",
     "exception": false,
     "start_time": "2024-04-09T23:20:31.426320",
     "status": "completed"
    },
    "tags": []
   },
   "source": [
    "# **Dataset Overview**\n",
    "\n",
    "The TMNIST dataset contains MNIST-style images of 94 different alphabetic characters, including digits (0-9) and uppercase and lowercase letters (a-z, A-Z). Each image is represented as a grayscale pixel matrix with dimensions 28x28, similar to the standard MNIST dataset."
   ]
  },
  {
   "cell_type": "markdown",
   "id": "1817eade",
   "metadata": {
    "papermill": {
     "duration": 0.011088,
     "end_time": "2024-04-09T23:20:31.458498",
     "exception": false,
     "start_time": "2024-04-09T23:20:31.447410",
     "status": "completed"
    },
    "tags": []
   },
   "source": [
    "# **Data Description**\n",
    "The dataset is stored in a file named \"TMNIST_Data.csv\" and consists of the following columns:\n",
    "\n",
    "'names': Font file names like 'Acme-Regular' or 'ZillaSlab-Bold'\n",
    "'labels': Characters such as '@', 'E', or '+'\n",
    "Columns '1' to '784': Grayscale pixel values for each image\n",
    "With over 281,000 images, the TMNIST dataset provides a rich resource for training and testing handwritten digit classification models.\n",
    "\n",
    "\n",
    "Dataset - https://www.kaggle.com/datasets/nikbearbrown/tmnist-alphabet-94-characters\n"
   ]
  },
  {
   "cell_type": "code",
   "execution_count": 1,
   "id": "137561b8",
   "metadata": {
    "_cell_guid": "b1076dfc-b9ad-4769-8c92-a6c4dae69d19",
    "_uuid": "8f2839f25d086af736a60e9eeb907d3b93b6e0e5",
    "execution": {
     "iopub.execute_input": "2024-04-09T23:20:31.482094Z",
     "iopub.status.busy": "2024-04-09T23:20:31.481410Z",
     "iopub.status.idle": "2024-04-09T23:20:32.346723Z",
     "shell.execute_reply": "2024-04-09T23:20:32.345692Z"
    },
    "papermill": {
     "duration": 0.879513,
     "end_time": "2024-04-09T23:20:32.348996",
     "exception": false,
     "start_time": "2024-04-09T23:20:31.469483",
     "status": "completed"
    },
    "tags": []
   },
   "outputs": [
    {
     "name": "stdout",
     "output_type": "stream",
     "text": [
      "/kaggle/input/tmnist-alphabet-94-characters/94_character_TMNIST.csv\n"
     ]
    }
   ],
   "source": [
    "# This Python 3 environment comes with many helpful analytics libraries installed\n",
    "# It is defined by the kaggle/python Docker image: https://github.com/kaggle/docker-python\n",
    "# For example, here's several helpful packages to load\n",
    "\n",
    "import numpy as np # linear algebra\n",
    "import pandas as pd # data processing, CSV file I/O (e.g. pd.read_csv)\n",
    "\n",
    "# Input data files are available in the read-only \"../input/\" directory\n",
    "# For example, running this (by clicking run or pressing Shift+Enter) will list all files under the input directory\n",
    "\n",
    "import os\n",
    "for dirname, _, filenames in os.walk('/kaggle/input'):\n",
    "    for filename in filenames:\n",
    "        print(os.path.join(dirname, filename))\n",
    "\n",
    "# You can write up to 20GB to the current directory (/kaggle/working/) that gets preserved as output when you create a version using \"Save & Run All\" \n",
    "# You can also write temporary files to /kaggle/temp/, but they won't be saved outside of the current session"
   ]
  },
  {
   "cell_type": "markdown",
   "id": "9025aef0",
   "metadata": {
    "papermill": {
     "duration": 0.011358,
     "end_time": "2024-04-09T23:20:32.372155",
     "exception": false,
     "start_time": "2024-04-09T23:20:32.360797",
     "status": "completed"
    },
    "tags": []
   },
   "source": [
    "# Step 0: Importing Necessary Items. "
   ]
  },
  {
   "cell_type": "code",
   "execution_count": 2,
   "id": "884d99d0",
   "metadata": {
    "execution": {
     "iopub.execute_input": "2024-04-09T23:20:32.395742Z",
     "iopub.status.busy": "2024-04-09T23:20:32.395326Z",
     "iopub.status.idle": "2024-04-09T23:20:46.912340Z",
     "shell.execute_reply": "2024-04-09T23:20:46.911331Z"
    },
    "papermill": {
     "duration": 14.53165,
     "end_time": "2024-04-09T23:20:46.914946",
     "exception": false,
     "start_time": "2024-04-09T23:20:32.383296",
     "status": "completed"
    },
    "tags": []
   },
   "outputs": [
    {
     "name": "stderr",
     "output_type": "stream",
     "text": [
      "2024-04-09 23:20:36.127492: E external/local_xla/xla/stream_executor/cuda/cuda_dnn.cc:9261] Unable to register cuDNN factory: Attempting to register factory for plugin cuDNN when one has already been registered\n",
      "2024-04-09 23:20:36.127593: E external/local_xla/xla/stream_executor/cuda/cuda_fft.cc:607] Unable to register cuFFT factory: Attempting to register factory for plugin cuFFT when one has already been registered\n",
      "2024-04-09 23:20:36.290012: E external/local_xla/xla/stream_executor/cuda/cuda_blas.cc:1515] Unable to register cuBLAS factory: Attempting to register factory for plugin cuBLAS when one has already been registered\n"
     ]
    }
   ],
   "source": [
    "from sklearn.model_selection import train_test_split\n",
    "from sklearn.preprocessing import LabelEncoder\n",
    "from keras.models import Sequential\n",
    "from keras.layers import Conv2D, MaxPooling2D, Flatten, Dense\n",
    "from keras.utils import to_categorical\n",
    "from keras.layers import Input\n",
    "from keras.layers import Dropout, BatchNormalization"
   ]
  },
  {
   "cell_type": "markdown",
   "id": "1c2a686f",
   "metadata": {
    "papermill": {
     "duration": 0.01088,
     "end_time": "2024-04-09T23:20:46.937687",
     "exception": false,
     "start_time": "2024-04-09T23:20:46.926807",
     "status": "completed"
    },
    "tags": []
   },
   "source": [
    "# Step 1: Data Preprocessing\n",
    "We start by preparing our data for training. This involves loading the TMNIST dataset, scaling pixel values to a suitable range, and splitting the data into training and testing sets."
   ]
  },
  {
   "cell_type": "code",
   "execution_count": 3,
   "id": "26ade0dc",
   "metadata": {
    "execution": {
     "iopub.execute_input": "2024-04-09T23:20:46.960944Z",
     "iopub.status.busy": "2024-04-09T23:20:46.960421Z",
     "iopub.status.idle": "2024-04-09T23:21:24.338852Z",
     "shell.execute_reply": "2024-04-09T23:21:24.337795Z"
    },
    "papermill": {
     "duration": 37.406574,
     "end_time": "2024-04-09T23:21:24.355226",
     "exception": false,
     "start_time": "2024-04-09T23:20:46.948652",
     "status": "completed"
    },
    "tags": []
   },
   "outputs": [
    {
     "data": {
      "text/html": [
       "<div>\n",
       "<style scoped>\n",
       "    .dataframe tbody tr th:only-of-type {\n",
       "        vertical-align: middle;\n",
       "    }\n",
       "\n",
       "    .dataframe tbody tr th {\n",
       "        vertical-align: top;\n",
       "    }\n",
       "\n",
       "    .dataframe thead th {\n",
       "        text-align: right;\n",
       "    }\n",
       "</style>\n",
       "<table border=\"1\" class=\"dataframe\">\n",
       "  <thead>\n",
       "    <tr style=\"text-align: right;\">\n",
       "      <th></th>\n",
       "      <th>names</th>\n",
       "      <th>labels</th>\n",
       "      <th>1</th>\n",
       "      <th>2</th>\n",
       "      <th>3</th>\n",
       "      <th>4</th>\n",
       "      <th>5</th>\n",
       "      <th>6</th>\n",
       "      <th>7</th>\n",
       "      <th>8</th>\n",
       "      <th>...</th>\n",
       "      <th>775</th>\n",
       "      <th>776</th>\n",
       "      <th>777</th>\n",
       "      <th>778</th>\n",
       "      <th>779</th>\n",
       "      <th>780</th>\n",
       "      <th>781</th>\n",
       "      <th>782</th>\n",
       "      <th>783</th>\n",
       "      <th>784</th>\n",
       "    </tr>\n",
       "  </thead>\n",
       "  <tbody>\n",
       "    <tr>\n",
       "      <th>0</th>\n",
       "      <td>Salsa-Regular</td>\n",
       "      <td>6</td>\n",
       "      <td>0.0</td>\n",
       "      <td>0.0</td>\n",
       "      <td>0.0</td>\n",
       "      <td>0.0</td>\n",
       "      <td>0.0</td>\n",
       "      <td>0.0</td>\n",
       "      <td>0.0</td>\n",
       "      <td>0.0</td>\n",
       "      <td>...</td>\n",
       "      <td>0.0</td>\n",
       "      <td>0.0</td>\n",
       "      <td>0.0</td>\n",
       "      <td>0.0</td>\n",
       "      <td>0.0</td>\n",
       "      <td>0.0</td>\n",
       "      <td>0.0</td>\n",
       "      <td>0.0</td>\n",
       "      <td>0.0</td>\n",
       "      <td>0.0</td>\n",
       "    </tr>\n",
       "    <tr>\n",
       "      <th>1</th>\n",
       "      <td>MouseMemoirs-Regular</td>\n",
       "      <td>D</td>\n",
       "      <td>0.0</td>\n",
       "      <td>0.0</td>\n",
       "      <td>0.0</td>\n",
       "      <td>0.0</td>\n",
       "      <td>0.0</td>\n",
       "      <td>0.0</td>\n",
       "      <td>0.0</td>\n",
       "      <td>0.0</td>\n",
       "      <td>...</td>\n",
       "      <td>0.0</td>\n",
       "      <td>0.0</td>\n",
       "      <td>0.0</td>\n",
       "      <td>0.0</td>\n",
       "      <td>0.0</td>\n",
       "      <td>0.0</td>\n",
       "      <td>0.0</td>\n",
       "      <td>0.0</td>\n",
       "      <td>0.0</td>\n",
       "      <td>0.0</td>\n",
       "    </tr>\n",
       "    <tr>\n",
       "      <th>2</th>\n",
       "      <td>Creepster-Regular</td>\n",
       "      <td>f</td>\n",
       "      <td>0.0</td>\n",
       "      <td>0.0</td>\n",
       "      <td>0.0</td>\n",
       "      <td>0.0</td>\n",
       "      <td>0.0</td>\n",
       "      <td>0.0</td>\n",
       "      <td>0.0</td>\n",
       "      <td>0.0</td>\n",
       "      <td>...</td>\n",
       "      <td>0.0</td>\n",
       "      <td>0.0</td>\n",
       "      <td>0.0</td>\n",
       "      <td>0.0</td>\n",
       "      <td>0.0</td>\n",
       "      <td>0.0</td>\n",
       "      <td>0.0</td>\n",
       "      <td>0.0</td>\n",
       "      <td>0.0</td>\n",
       "      <td>0.0</td>\n",
       "    </tr>\n",
       "    <tr>\n",
       "      <th>3</th>\n",
       "      <td>SeoulNamsan-Light</td>\n",
       "      <td>/</td>\n",
       "      <td>0.0</td>\n",
       "      <td>0.0</td>\n",
       "      <td>0.0</td>\n",
       "      <td>0.0</td>\n",
       "      <td>0.0</td>\n",
       "      <td>0.0</td>\n",
       "      <td>0.0</td>\n",
       "      <td>0.0</td>\n",
       "      <td>...</td>\n",
       "      <td>0.0</td>\n",
       "      <td>0.0</td>\n",
       "      <td>0.0</td>\n",
       "      <td>0.0</td>\n",
       "      <td>0.0</td>\n",
       "      <td>0.0</td>\n",
       "      <td>0.0</td>\n",
       "      <td>0.0</td>\n",
       "      <td>0.0</td>\n",
       "      <td>0.0</td>\n",
       "    </tr>\n",
       "    <tr>\n",
       "      <th>4</th>\n",
       "      <td>HachiMaruPop-Regular</td>\n",
       "      <td>F</td>\n",
       "      <td>0.0</td>\n",
       "      <td>0.0</td>\n",
       "      <td>0.0</td>\n",
       "      <td>0.0</td>\n",
       "      <td>0.0</td>\n",
       "      <td>0.0</td>\n",
       "      <td>0.0</td>\n",
       "      <td>0.0</td>\n",
       "      <td>...</td>\n",
       "      <td>0.0</td>\n",
       "      <td>0.0</td>\n",
       "      <td>0.0</td>\n",
       "      <td>0.0</td>\n",
       "      <td>0.0</td>\n",
       "      <td>0.0</td>\n",
       "      <td>0.0</td>\n",
       "      <td>0.0</td>\n",
       "      <td>0.0</td>\n",
       "      <td>0.0</td>\n",
       "    </tr>\n",
       "  </tbody>\n",
       "</table>\n",
       "<p>5 rows × 786 columns</p>\n",
       "</div>"
      ],
      "text/plain": [
       "                  names labels    1    2    3    4    5    6    7    8  ...  \\\n",
       "0         Salsa-Regular      6  0.0  0.0  0.0  0.0  0.0  0.0  0.0  0.0  ...   \n",
       "1  MouseMemoirs-Regular      D  0.0  0.0  0.0  0.0  0.0  0.0  0.0  0.0  ...   \n",
       "2     Creepster-Regular      f  0.0  0.0  0.0  0.0  0.0  0.0  0.0  0.0  ...   \n",
       "3     SeoulNamsan-Light      /  0.0  0.0  0.0  0.0  0.0  0.0  0.0  0.0  ...   \n",
       "4  HachiMaruPop-Regular      F  0.0  0.0  0.0  0.0  0.0  0.0  0.0  0.0  ...   \n",
       "\n",
       "   775  776  777  778  779  780  781  782  783  784  \n",
       "0  0.0  0.0  0.0  0.0  0.0  0.0  0.0  0.0  0.0  0.0  \n",
       "1  0.0  0.0  0.0  0.0  0.0  0.0  0.0  0.0  0.0  0.0  \n",
       "2  0.0  0.0  0.0  0.0  0.0  0.0  0.0  0.0  0.0  0.0  \n",
       "3  0.0  0.0  0.0  0.0  0.0  0.0  0.0  0.0  0.0  0.0  \n",
       "4  0.0  0.0  0.0  0.0  0.0  0.0  0.0  0.0  0.0  0.0  \n",
       "\n",
       "[5 rows x 786 columns]"
      ]
     },
     "execution_count": 3,
     "metadata": {},
     "output_type": "execute_result"
    }
   ],
   "source": [
    "df = pd.read_csv(\"/kaggle/input/tmnist-alphabet-94-characters/94_character_TMNIST.csv\")\n",
    "df.head()"
   ]
  },
  {
   "cell_type": "code",
   "execution_count": 4,
   "id": "d84ef663",
   "metadata": {
    "execution": {
     "iopub.execute_input": "2024-04-09T23:21:24.383387Z",
     "iopub.status.busy": "2024-04-09T23:21:24.382537Z",
     "iopub.status.idle": "2024-04-09T23:21:24.387928Z",
     "shell.execute_reply": "2024-04-09T23:21:24.386966Z"
    },
    "papermill": {
     "duration": 0.021918,
     "end_time": "2024-04-09T23:21:24.390199",
     "exception": false,
     "start_time": "2024-04-09T23:21:24.368281",
     "status": "completed"
    },
    "tags": []
   },
   "outputs": [
    {
     "name": "stdout",
     "output_type": "stream",
     "text": [
      "The Shape of the Dataframe is: (274093, 786)\n",
      "Number of Samples: 274093\n"
     ]
    }
   ],
   "source": [
    "print(f\"The Shape of the Dataframe is: {df.shape}\")\n",
    "print(f\"Number of Samples: {df.shape[0]}\")"
   ]
  },
  {
   "cell_type": "markdown",
   "id": "ff1cb606",
   "metadata": {
    "papermill": {
     "duration": 0.012069,
     "end_time": "2024-04-09T23:21:24.415105",
     "exception": false,
     "start_time": "2024-04-09T23:21:24.403036",
     "status": "completed"
    },
    "tags": []
   },
   "source": [
    "The Shape of the Dataframe is: (274093, 786): This line is the output of the first print statement. It shows the shape of the DataFrame df, where 274093 represents the number of rows and 786 represents the number of columns.\n",
    "\n",
    "Number of Samples: 274093: This line is the output of the second print statement. It displays the number of samples in the DataFrame, which is equal to the number of rows in this case (274093), indicating the total number of records or instances in the dataset.\n",
    "\n",
    "In summary, the code provides information about the shape of the DataFrame (number of rows and columns) and explicitly mentions the number of samples (number of rows) in the DataFrame. "
   ]
  },
  {
   "cell_type": "code",
   "execution_count": 5,
   "id": "d005a65b",
   "metadata": {
    "execution": {
     "iopub.execute_input": "2024-04-09T23:21:24.440042Z",
     "iopub.status.busy": "2024-04-09T23:21:24.439770Z",
     "iopub.status.idle": "2024-04-09T23:21:24.468613Z",
     "shell.execute_reply": "2024-04-09T23:21:24.467596Z"
    },
    "papermill": {
     "duration": 0.043789,
     "end_time": "2024-04-09T23:21:24.470709",
     "exception": false,
     "start_time": "2024-04-09T23:21:24.426920",
     "status": "completed"
    },
    "tags": []
   },
   "outputs": [
    {
     "name": "stdout",
     "output_type": "stream",
     "text": [
      "Number of unique character present in the Dataset: 94\n"
     ]
    }
   ],
   "source": [
    "# Number of unique character in the Dataframe\n",
    "print(f\"Number of unique character present in the Dataset: {len(df.labels.unique())}\")"
   ]
  },
  {
   "cell_type": "code",
   "execution_count": 6,
   "id": "eb537e4d",
   "metadata": {
    "execution": {
     "iopub.execute_input": "2024-04-09T23:21:24.495787Z",
     "iopub.status.busy": "2024-04-09T23:21:24.495501Z",
     "iopub.status.idle": "2024-04-09T23:21:24.530180Z",
     "shell.execute_reply": "2024-04-09T23:21:24.529004Z"
    },
    "papermill": {
     "duration": 0.049453,
     "end_time": "2024-04-09T23:21:24.532212",
     "exception": false,
     "start_time": "2024-04-09T23:21:24.482759",
     "status": "completed"
    },
    "tags": []
   },
   "outputs": [
    {
     "name": "stdout",
     "output_type": "stream",
     "text": [
      "Number of unique fonts present in the Dataset: 2990\n"
     ]
    }
   ],
   "source": [
    "# Number of Fonts in the Dataframe\n",
    "print(f\"Number of unique fonts present in the Dataset: {len(df.names.unique())}\")"
   ]
  },
  {
   "cell_type": "markdown",
   "id": "a49565ec",
   "metadata": {
    "papermill": {
     "duration": 0.011848,
     "end_time": "2024-04-09T23:21:24.556190",
     "exception": false,
     "start_time": "2024-04-09T23:21:24.544342",
     "status": "completed"
    },
    "tags": []
   },
   "source": [
    "# Step 2: Model Preparation\n",
    "Next, we design our neural network architecture using a basic CNNs. CNNs are commonly used for image classification tasks due to their ability to capture spatial patterns effectively.\n",
    "\n"
   ]
  },
  {
   "cell_type": "code",
   "execution_count": 7,
   "id": "8f5896fc",
   "metadata": {
    "execution": {
     "iopub.execute_input": "2024-04-09T23:21:24.581501Z",
     "iopub.status.busy": "2024-04-09T23:21:24.581154Z",
     "iopub.status.idle": "2024-04-09T23:21:25.524242Z",
     "shell.execute_reply": "2024-04-09T23:21:25.523300Z"
    },
    "papermill": {
     "duration": 0.958639,
     "end_time": "2024-04-09T23:21:25.526764",
     "exception": false,
     "start_time": "2024-04-09T23:21:24.568125",
     "status": "completed"
    },
    "tags": []
   },
   "outputs": [],
   "source": [
    "# Preprocess the data\n",
    "X = df.iloc[:, 2:].values.astype('float32') / 255.0  # Normalize pixel values\n",
    "y = df['labels'].values"
   ]
  },
  {
   "cell_type": "markdown",
   "id": "367c7a66",
   "metadata": {
    "papermill": {
     "duration": 0.012062,
     "end_time": "2024-04-09T23:21:25.552010",
     "exception": false,
     "start_time": "2024-04-09T23:21:25.539948",
     "status": "completed"
    },
    "tags": []
   },
   "source": [
    "The provided code segment demonstrates data preprocessing steps for machine learning tasks, specifically for image classification using a DataFrame df.\n",
    "\n",
    "X = df.iloc[:, 2:].values.astype('float32') / 255.0: This line of code selects all rows and columns starting from the third column (index 2) to the last column of the DataFrame df. It then converts these selected pixel values into a NumPy array of float32 data type and normalizes them by dividing each pixel value by 255.0. This normalization step scales the pixel values to a range between 0 and 1, which is commonly done to improve the convergence and performance of machine learning models.\n",
    "\n",
    "y = df['labels'].values: This line of code extracts the target variable, typically denoted as 'y', from the DataFrame df. It selects the 'labels' column and retrieves its values, which represent the class labels or categories associated with each image in the dataset. These class labels will be used for training the machine learning model to predict the corresponding classes of new images.\n",
    "\n"
   ]
  },
  {
   "cell_type": "code",
   "execution_count": 8,
   "id": "0d30ffb4",
   "metadata": {
    "execution": {
     "iopub.execute_input": "2024-04-09T23:21:25.576970Z",
     "iopub.status.busy": "2024-04-09T23:21:25.576101Z",
     "iopub.status.idle": "2024-04-09T23:21:25.681039Z",
     "shell.execute_reply": "2024-04-09T23:21:25.679833Z"
    },
    "papermill": {
     "duration": 0.120786,
     "end_time": "2024-04-09T23:21:25.684077",
     "exception": false,
     "start_time": "2024-04-09T23:21:25.563291",
     "status": "completed"
    },
    "tags": []
   },
   "outputs": [],
   "source": [
    "# One-hot encode labels\n",
    "label_encoder = LabelEncoder()\n",
    "y = label_encoder.fit_transform(y)\n",
    "y = to_categorical(y)\n"
   ]
  },
  {
   "cell_type": "markdown",
   "id": "cff137a5",
   "metadata": {
    "papermill": {
     "duration": 0.012305,
     "end_time": "2024-04-09T23:21:25.713266",
     "exception": false,
     "start_time": "2024-04-09T23:21:25.700961",
     "status": "completed"
    },
    "tags": []
   },
   "source": [
    "The code snippet provided performs one-hot encoding for the labels, which is a common technique used in machine learning tasks, particularly in classification problems with categorical data.\n",
    "\n",
    "label_encoder = LabelEncoder(): This line initializes a LabelEncoder object, which is a utility class provided by scikit-learn for encoding categorical labels into numerical values.\n",
    "\n",
    "y = label_encoder.fit_transform(y): Here, the fit_transform method of the LabelEncoder object is applied to the target variable y. This method first fits the encoder to the unique categories present in y and then transforms the original categorical labels into numerical values.\n",
    "\n",
    "y = to_categorical(y): This line further processes the transformed numerical labels y using the to_categorical function from Keras utilities (keras.utils). This function converts the numerical labels into a one-hot encoded representation, where each label is represented as a binary vector with a '1' at the index corresponding to the class label and '0's elsewhere."
   ]
  },
  {
   "cell_type": "code",
   "execution_count": 9,
   "id": "8b77214e",
   "metadata": {
    "execution": {
     "iopub.execute_input": "2024-04-09T23:21:25.738522Z",
     "iopub.status.busy": "2024-04-09T23:21:25.738197Z",
     "iopub.status.idle": "2024-04-09T23:21:25.743623Z",
     "shell.execute_reply": "2024-04-09T23:21:25.742278Z"
    },
    "papermill": {
     "duration": 0.021048,
     "end_time": "2024-04-09T23:21:25.746165",
     "exception": false,
     "start_time": "2024-04-09T23:21:25.725117",
     "status": "completed"
    },
    "tags": []
   },
   "outputs": [],
   "source": [
    "# Reshape features\n",
    "X = X.reshape(-1, 28, 28, 1)  # Reshape to (num_samples, width, height, channels)\n"
   ]
  },
  {
   "cell_type": "code",
   "execution_count": 10,
   "id": "1ac107ac",
   "metadata": {
    "execution": {
     "iopub.execute_input": "2024-04-09T23:21:25.771945Z",
     "iopub.status.busy": "2024-04-09T23:21:25.771229Z",
     "iopub.status.idle": "2024-04-09T23:21:28.127631Z",
     "shell.execute_reply": "2024-04-09T23:21:28.126506Z"
    },
    "papermill": {
     "duration": 2.372459,
     "end_time": "2024-04-09T23:21:28.130351",
     "exception": false,
     "start_time": "2024-04-09T23:21:25.757892",
     "status": "completed"
    },
    "tags": []
   },
   "outputs": [],
   "source": [
    "# Split the data into training and testing sets\n",
    "X_train, X_test, y_train, y_test = train_test_split(X, y, test_size=0.2, random_state=42)"
   ]
  },
  {
   "cell_type": "markdown",
   "id": "f22ada97",
   "metadata": {
    "papermill": {
     "duration": 0.012037,
     "end_time": "2024-04-09T23:21:28.154806",
     "exception": false,
     "start_time": "2024-04-09T23:21:28.142769",
     "status": "completed"
    },
    "tags": []
   },
   "source": [
    "Purpose of Data Splitting:\n",
    "\n",
    "Training Set: The training set is used to train the CNN model. During training, the model learns the patterns and features present in the input data and adjusts its parameters accordingly to minimize the loss function.\n",
    "Testing Set: The testing set is used to evaluate the performance of the trained model on unseen data. By evaluating the model on data it hasn't seen during training, we can assess its ability to generalize to new, unseen examples. This step is crucial for understanding how well the model will perform in real-world scenarios.\n",
    "Benefits of Data Splitting for CNNs:\n",
    "\n",
    "Prevents Overfitting: CNNs, like other machine learning models, are susceptible to overfitting, where the model learns to memorize the training data rather than generalize to new data. By splitting the data into training and testing sets, we can evaluate the model's performance on unseen data and detect if it has overfit the training data.\n",
    "Provides Unbiased Evaluation: Evaluating the model on a separate testing set ensures an unbiased assessment of its performance. If we were to evaluate the model on the same data used for training, the performance metrics would likely be overly optimistic and not reflect its true ability to generalize.\n",
    "Tuning Model Parameters: Data splitting allows for the tuning of model hyperparameters based on performance metrics obtained from the testing set. This iterative process of training, evaluation, and parameter tuning helps improve the model's performance and robustness.\n",
    "Importance of Random State:\n",
    "\n",
    "Setting a random_state ensures reproducibility of the data split. By specifying a random seed (random_state=42 in this case), the data splitting process will yield the same train-test split each time the code is executed. This is essential for reproducibility and ensures consistency in model evaluation and comparison across different runs."
   ]
  },
  {
   "cell_type": "markdown",
   "id": "0d3aece1",
   "metadata": {
    "papermill": {
     "duration": 0.011846,
     "end_time": "2024-04-09T23:21:28.178578",
     "exception": false,
     "start_time": "2024-04-09T23:21:28.166732",
     "status": "completed"
    },
    "tags": []
   },
   "source": [
    "# Step 3: Model Definition with Explicit Input Shape Declaration\n"
   ]
  },
  {
   "cell_type": "code",
   "execution_count": 11,
   "id": "879248be",
   "metadata": {
    "execution": {
     "iopub.execute_input": "2024-04-09T23:21:28.203413Z",
     "iopub.status.busy": "2024-04-09T23:21:28.203081Z",
     "iopub.status.idle": "2024-04-09T23:21:29.073251Z",
     "shell.execute_reply": "2024-04-09T23:21:29.072508Z"
    },
    "papermill": {
     "duration": 0.88509,
     "end_time": "2024-04-09T23:21:29.075303",
     "exception": false,
     "start_time": "2024-04-09T23:21:28.190213",
     "status": "completed"
    },
    "tags": []
   },
   "outputs": [],
   "source": [
    "# Define the input shape explicitly using an Input layer\n",
    "input_layer = Input(shape=(28, 28, 1))\n",
    "\n",
    "# Create the Sequential model with the layers\n",
    "model = Sequential([\n",
    "    Conv2D(32, (3, 3), activation='relu'),\n",
    "    MaxPooling2D((2, 2)),\n",
    "    Conv2D(64, (3, 3), activation='relu'),\n",
    "    MaxPooling2D((2, 2)),\n",
    "    Flatten(),\n",
    "    Dense(128, activation='relu'),\n",
    "    Dropout(0.5),\n",
    "    Dense(94, activation='softmax')\n",
    "])"
   ]
  },
  {
   "cell_type": "markdown",
   "id": "7a7f69ac",
   "metadata": {
    "papermill": {
     "duration": 0.011167,
     "end_time": "2024-04-09T23:21:29.098139",
     "exception": false,
     "start_time": "2024-04-09T23:21:29.086972",
     "status": "completed"
    },
    "tags": []
   },
   "source": [
    "Input Layer Declaration:\n",
    "\n",
    "Here, an input layer is explicitly defined using the Input function from the Keras layers module. The shape argument specifies the shape of the input data, which in this case is a 28x28 pixel grayscale image ((28, 28, 1)). The last dimension, 1, indicates that the image is grayscale, as it has only one channel."
   ]
  },
  {
   "cell_type": "markdown",
   "id": "49d0bc21",
   "metadata": {
    "papermill": {
     "duration": 0.011037,
     "end_time": "2024-04-09T23:21:29.120287",
     "exception": false,
     "start_time": "2024-04-09T23:21:29.109250",
     "status": "completed"
    },
    "tags": []
   },
   "source": [
    "### Convolutional neural network (CNN) model using Keras' Sequential API.\n",
    "The model consists of the following layers:\n",
    "\n",
    "Convolutional Layers: Two convolutional layers (Conv2D) with 32 and 64 filters, respectively, each having a kernel size of (3, 3) and using ReLU activation functions.\n",
    "\n",
    "Pooling Layers: Two max-pooling layers (MaxPooling2D) with pool sizes of (2, 2), which reduce the spatial dimensions of the feature maps.\n",
    "\n",
    "Flatten Layer: Flattens the output of the convolutional layers into a one-dimensional vector to be fed into the dense layers.\n",
    "\n",
    "Dense Layers: Two dense layers (Dense) with 128 and 94 units, respectively. The first dense layer uses ReLU activation, while the second dense layer uses softmax activation, suitable for multi-class classification tasks.\n",
    "\n",
    "Dropout Layer: A dropout layer (Dropout) with a dropout rate of 0.5, which helps prevent overfitting by randomly dropping out units during training.\n",
    "\n",
    "\n",
    "We define a CNN model architecture for image classification tasks, specifically for classifying 28x28 pixel grayscale images into one of 94 categories. The model architecture consists of convolutional layers for feature extraction, pooling layers for spatial downsampling, dense layers for classification, and a dropout layer for regularization. The explicit declaration of the input shape ensures compatibility between the input data and the model architecture."
   ]
  },
  {
   "cell_type": "code",
   "execution_count": 12,
   "id": "7913fc33",
   "metadata": {
    "execution": {
     "iopub.execute_input": "2024-04-09T23:21:29.144748Z",
     "iopub.status.busy": "2024-04-09T23:21:29.144223Z",
     "iopub.status.idle": "2024-04-09T23:21:29.182752Z",
     "shell.execute_reply": "2024-04-09T23:21:29.181761Z"
    },
    "papermill": {
     "duration": 0.052837,
     "end_time": "2024-04-09T23:21:29.184648",
     "exception": false,
     "start_time": "2024-04-09T23:21:29.131811",
     "status": "completed"
    },
    "tags": []
   },
   "outputs": [
    {
     "data": {
      "text/html": [
       "<pre style=\"white-space:pre;overflow-x:auto;line-height:normal;font-family:Menlo,'DejaVu Sans Mono',consolas,'Courier New',monospace\"><span style=\"font-weight: bold\">Model: \"sequential\"</span>\n",
       "</pre>\n"
      ],
      "text/plain": [
       "\u001b[1mModel: \"sequential\"\u001b[0m\n"
      ]
     },
     "metadata": {},
     "output_type": "display_data"
    },
    {
     "data": {
      "text/html": [
       "<pre style=\"white-space:pre;overflow-x:auto;line-height:normal;font-family:Menlo,'DejaVu Sans Mono',consolas,'Courier New',monospace\">┏━━━━━━━━━━━━━━━━━━━━━━━━━━━━━━━━━┳━━━━━━━━━━━━━━━━━━━━━━━━┳━━━━━━━━━━━━━━━┓\n",
       "┃<span style=\"font-weight: bold\"> Layer (type)                    </span>┃<span style=\"font-weight: bold\"> Output Shape           </span>┃<span style=\"font-weight: bold\">       Param # </span>┃\n",
       "┡━━━━━━━━━━━━━━━━━━━━━━━━━━━━━━━━━╇━━━━━━━━━━━━━━━━━━━━━━━━╇━━━━━━━━━━━━━━━┩\n",
       "│ conv2d (<span style=\"color: #0087ff; text-decoration-color: #0087ff\">Conv2D</span>)                 │ ?                      │   <span style=\"color: #00af00; text-decoration-color: #00af00\">0</span> (unbuilt) │\n",
       "├─────────────────────────────────┼────────────────────────┼───────────────┤\n",
       "│ max_pooling2d (<span style=\"color: #0087ff; text-decoration-color: #0087ff\">MaxPooling2D</span>)    │ ?                      │   <span style=\"color: #00af00; text-decoration-color: #00af00\">0</span> (unbuilt) │\n",
       "├─────────────────────────────────┼────────────────────────┼───────────────┤\n",
       "│ conv2d_1 (<span style=\"color: #0087ff; text-decoration-color: #0087ff\">Conv2D</span>)               │ ?                      │   <span style=\"color: #00af00; text-decoration-color: #00af00\">0</span> (unbuilt) │\n",
       "├─────────────────────────────────┼────────────────────────┼───────────────┤\n",
       "│ max_pooling2d_1 (<span style=\"color: #0087ff; text-decoration-color: #0087ff\">MaxPooling2D</span>)  │ ?                      │   <span style=\"color: #00af00; text-decoration-color: #00af00\">0</span> (unbuilt) │\n",
       "├─────────────────────────────────┼────────────────────────┼───────────────┤\n",
       "│ flatten (<span style=\"color: #0087ff; text-decoration-color: #0087ff\">Flatten</span>)               │ ?                      │   <span style=\"color: #00af00; text-decoration-color: #00af00\">0</span> (unbuilt) │\n",
       "├─────────────────────────────────┼────────────────────────┼───────────────┤\n",
       "│ dense (<span style=\"color: #0087ff; text-decoration-color: #0087ff\">Dense</span>)                   │ ?                      │   <span style=\"color: #00af00; text-decoration-color: #00af00\">0</span> (unbuilt) │\n",
       "├─────────────────────────────────┼────────────────────────┼───────────────┤\n",
       "│ dropout (<span style=\"color: #0087ff; text-decoration-color: #0087ff\">Dropout</span>)               │ ?                      │             <span style=\"color: #00af00; text-decoration-color: #00af00\">0</span> │\n",
       "├─────────────────────────────────┼────────────────────────┼───────────────┤\n",
       "│ dense_1 (<span style=\"color: #0087ff; text-decoration-color: #0087ff\">Dense</span>)                 │ ?                      │   <span style=\"color: #00af00; text-decoration-color: #00af00\">0</span> (unbuilt) │\n",
       "└─────────────────────────────────┴────────────────────────┴───────────────┘\n",
       "</pre>\n"
      ],
      "text/plain": [
       "┏━━━━━━━━━━━━━━━━━━━━━━━━━━━━━━━━━┳━━━━━━━━━━━━━━━━━━━━━━━━┳━━━━━━━━━━━━━━━┓\n",
       "┃\u001b[1m \u001b[0m\u001b[1mLayer (type)                   \u001b[0m\u001b[1m \u001b[0m┃\u001b[1m \u001b[0m\u001b[1mOutput Shape          \u001b[0m\u001b[1m \u001b[0m┃\u001b[1m \u001b[0m\u001b[1m      Param #\u001b[0m\u001b[1m \u001b[0m┃\n",
       "┡━━━━━━━━━━━━━━━━━━━━━━━━━━━━━━━━━╇━━━━━━━━━━━━━━━━━━━━━━━━╇━━━━━━━━━━━━━━━┩\n",
       "│ conv2d (\u001b[38;5;33mConv2D\u001b[0m)                 │ ?                      │   \u001b[38;5;34m0\u001b[0m (unbuilt) │\n",
       "├─────────────────────────────────┼────────────────────────┼───────────────┤\n",
       "│ max_pooling2d (\u001b[38;5;33mMaxPooling2D\u001b[0m)    │ ?                      │   \u001b[38;5;34m0\u001b[0m (unbuilt) │\n",
       "├─────────────────────────────────┼────────────────────────┼───────────────┤\n",
       "│ conv2d_1 (\u001b[38;5;33mConv2D\u001b[0m)               │ ?                      │   \u001b[38;5;34m0\u001b[0m (unbuilt) │\n",
       "├─────────────────────────────────┼────────────────────────┼───────────────┤\n",
       "│ max_pooling2d_1 (\u001b[38;5;33mMaxPooling2D\u001b[0m)  │ ?                      │   \u001b[38;5;34m0\u001b[0m (unbuilt) │\n",
       "├─────────────────────────────────┼────────────────────────┼───────────────┤\n",
       "│ flatten (\u001b[38;5;33mFlatten\u001b[0m)               │ ?                      │   \u001b[38;5;34m0\u001b[0m (unbuilt) │\n",
       "├─────────────────────────────────┼────────────────────────┼───────────────┤\n",
       "│ dense (\u001b[38;5;33mDense\u001b[0m)                   │ ?                      │   \u001b[38;5;34m0\u001b[0m (unbuilt) │\n",
       "├─────────────────────────────────┼────────────────────────┼───────────────┤\n",
       "│ dropout (\u001b[38;5;33mDropout\u001b[0m)               │ ?                      │             \u001b[38;5;34m0\u001b[0m │\n",
       "├─────────────────────────────────┼────────────────────────┼───────────────┤\n",
       "│ dense_1 (\u001b[38;5;33mDense\u001b[0m)                 │ ?                      │   \u001b[38;5;34m0\u001b[0m (unbuilt) │\n",
       "└─────────────────────────────────┴────────────────────────┴───────────────┘\n"
      ]
     },
     "metadata": {},
     "output_type": "display_data"
    },
    {
     "data": {
      "text/html": [
       "<pre style=\"white-space:pre;overflow-x:auto;line-height:normal;font-family:Menlo,'DejaVu Sans Mono',consolas,'Courier New',monospace\"><span style=\"font-weight: bold\"> Total params: </span><span style=\"color: #00af00; text-decoration-color: #00af00\">0</span> (0.00 B)\n",
       "</pre>\n"
      ],
      "text/plain": [
       "\u001b[1m Total params: \u001b[0m\u001b[38;5;34m0\u001b[0m (0.00 B)\n"
      ]
     },
     "metadata": {},
     "output_type": "display_data"
    },
    {
     "data": {
      "text/html": [
       "<pre style=\"white-space:pre;overflow-x:auto;line-height:normal;font-family:Menlo,'DejaVu Sans Mono',consolas,'Courier New',monospace\"><span style=\"font-weight: bold\"> Trainable params: </span><span style=\"color: #00af00; text-decoration-color: #00af00\">0</span> (0.00 B)\n",
       "</pre>\n"
      ],
      "text/plain": [
       "\u001b[1m Trainable params: \u001b[0m\u001b[38;5;34m0\u001b[0m (0.00 B)\n"
      ]
     },
     "metadata": {},
     "output_type": "display_data"
    },
    {
     "data": {
      "text/html": [
       "<pre style=\"white-space:pre;overflow-x:auto;line-height:normal;font-family:Menlo,'DejaVu Sans Mono',consolas,'Courier New',monospace\"><span style=\"font-weight: bold\"> Non-trainable params: </span><span style=\"color: #00af00; text-decoration-color: #00af00\">0</span> (0.00 B)\n",
       "</pre>\n"
      ],
      "text/plain": [
       "\u001b[1m Non-trainable params: \u001b[0m\u001b[38;5;34m0\u001b[0m (0.00 B)\n"
      ]
     },
     "metadata": {},
     "output_type": "display_data"
    }
   ],
   "source": [
    "# Compile the model\n",
    "model.compile(optimizer='adam', loss='categorical_crossentropy', metrics=['accuracy'])\n",
    "\n",
    "# Print model summary\n",
    "model.summary()"
   ]
  },
  {
   "cell_type": "markdown",
   "id": "b5c09f92",
   "metadata": {
    "papermill": {
     "duration": 0.012291,
     "end_time": "2024-04-09T23:21:29.209541",
     "exception": false,
     "start_time": "2024-04-09T23:21:29.197250",
     "status": "completed"
    },
    "tags": []
   },
   "source": [
    "# Step 4: Training the Model"
   ]
  },
  {
   "cell_type": "code",
   "execution_count": 13,
   "id": "d8089ea6",
   "metadata": {
    "execution": {
     "iopub.execute_input": "2024-04-09T23:21:29.236076Z",
     "iopub.status.busy": "2024-04-09T23:21:29.235799Z",
     "iopub.status.idle": "2024-04-09T23:27:28.588529Z",
     "shell.execute_reply": "2024-04-09T23:27:28.587425Z"
    },
    "papermill": {
     "duration": 359.368724,
     "end_time": "2024-04-09T23:27:28.590889",
     "exception": false,
     "start_time": "2024-04-09T23:21:29.222165",
     "status": "completed"
    },
    "tags": []
   },
   "outputs": [
    {
     "name": "stdout",
     "output_type": "stream",
     "text": [
      "Epoch 1/20\n",
      "\u001b[1m  80/6853\u001b[0m \u001b[37m━━━━━━━━━━━━━━━━━━━━\u001b[0m \u001b[1m13s\u001b[0m 2ms/step - accuracy: 0.0384 - loss: 4.4366"
     ]
    },
    {
     "name": "stderr",
     "output_type": "stream",
     "text": [
      "WARNING: All log messages before absl::InitializeLog() is called are written to STDERR\n",
      "I0000 00:00:1712704897.198174      72 device_compiler.h:186] Compiled cluster using XLA!  This line is logged at most once for the lifetime of the process.\n",
      "W0000 00:00:1712704897.215815      72 graph_launch.cc:671] Fallback to op-by-op mode because memset node breaks graph update\n"
     ]
    },
    {
     "name": "stdout",
     "output_type": "stream",
     "text": [
      "\u001b[1m6853/6853\u001b[0m \u001b[32m━━━━━━━━━━━━━━━━━━━━\u001b[0m\u001b[37m\u001b[0m \u001b[1m0s\u001b[0m 2ms/step - accuracy: 0.6700 - loss: 1.2395"
     ]
    },
    {
     "name": "stderr",
     "output_type": "stream",
     "text": [
      "W0000 00:00:1712704914.321002      74 graph_launch.cc:671] Fallback to op-by-op mode because memset node breaks graph update\n",
      "W0000 00:00:1712704915.405589      72 graph_launch.cc:671] Fallback to op-by-op mode because memset node breaks graph update\n"
     ]
    },
    {
     "name": "stdout",
     "output_type": "stream",
     "text": [
      "\u001b[1m6853/6853\u001b[0m \u001b[32m━━━━━━━━━━━━━━━━━━━━\u001b[0m\u001b[37m\u001b[0m \u001b[1m28s\u001b[0m 3ms/step - accuracy: 0.6700 - loss: 1.2395 - val_accuracy: 0.9021 - val_loss: 0.3196\n",
      "Epoch 2/20\n",
      "\u001b[1m6853/6853\u001b[0m \u001b[32m━━━━━━━━━━━━━━━━━━━━\u001b[0m\u001b[37m\u001b[0m \u001b[1m17s\u001b[0m 2ms/step - accuracy: 0.8683 - loss: 0.4360 - val_accuracy: 0.9183 - val_loss: 0.2669\n",
      "Epoch 3/20\n",
      "\u001b[1m6853/6853\u001b[0m \u001b[32m━━━━━━━━━━━━━━━━━━━━\u001b[0m\u001b[37m\u001b[0m \u001b[1m18s\u001b[0m 3ms/step - accuracy: 0.8930 - loss: 0.3559 - val_accuracy: 0.9261 - val_loss: 0.2437\n",
      "Epoch 4/20\n",
      "\u001b[1m6853/6853\u001b[0m \u001b[32m━━━━━━━━━━━━━━━━━━━━\u001b[0m\u001b[37m\u001b[0m \u001b[1m17s\u001b[0m 3ms/step - accuracy: 0.9032 - loss: 0.3148 - val_accuracy: 0.9258 - val_loss: 0.2387\n",
      "Epoch 5/20\n",
      "\u001b[1m6853/6853\u001b[0m \u001b[32m━━━━━━━━━━━━━━━━━━━━\u001b[0m\u001b[37m\u001b[0m \u001b[1m17s\u001b[0m 3ms/step - accuracy: 0.9086 - loss: 0.2948 - val_accuracy: 0.9325 - val_loss: 0.2245\n",
      "Epoch 6/20\n",
      "\u001b[1m6853/6853\u001b[0m \u001b[32m━━━━━━━━━━━━━━━━━━━━\u001b[0m\u001b[37m\u001b[0m \u001b[1m17s\u001b[0m 3ms/step - accuracy: 0.9144 - loss: 0.2733 - val_accuracy: 0.9341 - val_loss: 0.2147\n",
      "Epoch 7/20\n",
      "\u001b[1m6853/6853\u001b[0m \u001b[32m━━━━━━━━━━━━━━━━━━━━\u001b[0m\u001b[37m\u001b[0m \u001b[1m17s\u001b[0m 3ms/step - accuracy: 0.9182 - loss: 0.2607 - val_accuracy: 0.9347 - val_loss: 0.2135\n",
      "Epoch 8/20\n",
      "\u001b[1m6853/6853\u001b[0m \u001b[32m━━━━━━━━━━━━━━━━━━━━\u001b[0m\u001b[37m\u001b[0m \u001b[1m17s\u001b[0m 2ms/step - accuracy: 0.9207 - loss: 0.2503 - val_accuracy: 0.9359 - val_loss: 0.2097\n",
      "Epoch 9/20\n",
      "\u001b[1m6853/6853\u001b[0m \u001b[32m━━━━━━━━━━━━━━━━━━━━\u001b[0m\u001b[37m\u001b[0m \u001b[1m18s\u001b[0m 3ms/step - accuracy: 0.9233 - loss: 0.2436 - val_accuracy: 0.9362 - val_loss: 0.2136\n",
      "Epoch 10/20\n",
      "\u001b[1m6853/6853\u001b[0m \u001b[32m━━━━━━━━━━━━━━━━━━━━\u001b[0m\u001b[37m\u001b[0m \u001b[1m18s\u001b[0m 3ms/step - accuracy: 0.9242 - loss: 0.2346 - val_accuracy: 0.9362 - val_loss: 0.2125\n",
      "Epoch 11/20\n",
      "\u001b[1m6853/6853\u001b[0m \u001b[32m━━━━━━━━━━━━━━━━━━━━\u001b[0m\u001b[37m\u001b[0m \u001b[1m17s\u001b[0m 3ms/step - accuracy: 0.9267 - loss: 0.2267 - val_accuracy: 0.9370 - val_loss: 0.2047\n",
      "Epoch 12/20\n",
      "\u001b[1m6853/6853\u001b[0m \u001b[32m━━━━━━━━━━━━━━━━━━━━\u001b[0m\u001b[37m\u001b[0m \u001b[1m17s\u001b[0m 3ms/step - accuracy: 0.9273 - loss: 0.2214 - val_accuracy: 0.9376 - val_loss: 0.2141\n",
      "Epoch 13/20\n",
      "\u001b[1m6853/6853\u001b[0m \u001b[32m━━━━━━━━━━━━━━━━━━━━\u001b[0m\u001b[37m\u001b[0m \u001b[1m17s\u001b[0m 2ms/step - accuracy: 0.9281 - loss: 0.2158 - val_accuracy: 0.9357 - val_loss: 0.2112\n",
      "Epoch 14/20\n",
      "\u001b[1m6853/6853\u001b[0m \u001b[32m━━━━━━━━━━━━━━━━━━━━\u001b[0m\u001b[37m\u001b[0m \u001b[1m17s\u001b[0m 3ms/step - accuracy: 0.9306 - loss: 0.2127 - val_accuracy: 0.9376 - val_loss: 0.2072\n",
      "Epoch 15/20\n",
      "\u001b[1m6853/6853\u001b[0m \u001b[32m━━━━━━━━━━━━━━━━━━━━\u001b[0m\u001b[37m\u001b[0m \u001b[1m17s\u001b[0m 3ms/step - accuracy: 0.9311 - loss: 0.2092 - val_accuracy: 0.9375 - val_loss: 0.2123\n",
      "Epoch 16/20\n",
      "\u001b[1m6853/6853\u001b[0m \u001b[32m━━━━━━━━━━━━━━━━━━━━\u001b[0m\u001b[37m\u001b[0m \u001b[1m18s\u001b[0m 3ms/step - accuracy: 0.9318 - loss: 0.2060 - val_accuracy: 0.9385 - val_loss: 0.2221\n",
      "Epoch 17/20\n",
      "\u001b[1m6853/6853\u001b[0m \u001b[32m━━━━━━━━━━━━━━━━━━━━\u001b[0m\u001b[37m\u001b[0m \u001b[1m17s\u001b[0m 2ms/step - accuracy: 0.9319 - loss: 0.2070 - val_accuracy: 0.9387 - val_loss: 0.2109\n",
      "Epoch 18/20\n",
      "\u001b[1m6853/6853\u001b[0m \u001b[32m━━━━━━━━━━━━━━━━━━━━\u001b[0m\u001b[37m\u001b[0m \u001b[1m17s\u001b[0m 3ms/step - accuracy: 0.9323 - loss: 0.2046 - val_accuracy: 0.9383 - val_loss: 0.2081\n",
      "Epoch 19/20\n",
      "\u001b[1m6853/6853\u001b[0m \u001b[32m━━━━━━━━━━━━━━━━━━━━\u001b[0m\u001b[37m\u001b[0m \u001b[1m17s\u001b[0m 3ms/step - accuracy: 0.9333 - loss: 0.2006 - val_accuracy: 0.9392 - val_loss: 0.2188\n",
      "Epoch 20/20\n",
      "\u001b[1m6853/6853\u001b[0m \u001b[32m━━━━━━━━━━━━━━━━━━━━\u001b[0m\u001b[37m\u001b[0m \u001b[1m18s\u001b[0m 3ms/step - accuracy: 0.9333 - loss: 0.2003 - val_accuracy: 0.9378 - val_loss: 0.2169\n"
     ]
    }
   ],
   "source": [
    "# Train the model\n",
    "history =model.fit(X_train, y_train, epochs=20, batch_size=32, validation_data=(X_test, y_test))"
   ]
  },
  {
   "cell_type": "markdown",
   "id": "782c5b76",
   "metadata": {
    "papermill": {
     "duration": 0.495509,
     "end_time": "2024-04-09T23:27:29.585204",
     "exception": false,
     "start_time": "2024-04-09T23:27:29.089695",
     "status": "completed"
    },
    "tags": []
   },
   "source": [
    "# Step 5: Evaluation of the Model "
   ]
  },
  {
   "cell_type": "code",
   "execution_count": 14,
   "id": "72aa290b",
   "metadata": {
    "execution": {
     "iopub.execute_input": "2024-04-09T23:27:30.618091Z",
     "iopub.status.busy": "2024-04-09T23:27:30.617729Z",
     "iopub.status.idle": "2024-04-09T23:27:33.724605Z",
     "shell.execute_reply": "2024-04-09T23:27:33.723674Z"
    },
    "papermill": {
     "duration": 3.64906,
     "end_time": "2024-04-09T23:27:33.726484",
     "exception": false,
     "start_time": "2024-04-09T23:27:30.077424",
     "status": "completed"
    },
    "tags": []
   },
   "outputs": [
    {
     "name": "stdout",
     "output_type": "stream",
     "text": [
      "\u001b[1m1714/1714\u001b[0m \u001b[32m━━━━━━━━━━━━━━━━━━━━\u001b[0m\u001b[37m\u001b[0m \u001b[1m3s\u001b[0m 2ms/step - accuracy: 0.9382 - loss: 0.2191\n",
      "Test Accuracy: 93.78%\n",
      "Test Loss: 0.2169\n"
     ]
    }
   ],
   "source": [
    "# Evaluate the model on test data\n",
    "loss, accuracy = model.evaluate(X_test, y_test)\n",
    "\n",
    "# Convert accuracy to percentage\n",
    "accuracy_percentage = accuracy * 100\n",
    "\n",
    "print(f'Test Accuracy: {accuracy_percentage:.2f}%')\n",
    "print(f'Test Loss: {loss:.4f}')"
   ]
  },
  {
   "cell_type": "markdown",
   "id": "7f9d316c",
   "metadata": {
    "papermill": {
     "duration": 0.496186,
     "end_time": "2024-04-09T23:27:34.717992",
     "exception": false,
     "start_time": "2024-04-09T23:27:34.221806",
     "status": "completed"
    },
    "tags": []
   },
   "source": [
    "The evaluation of the trained convolutional neural network (CNN) model on the testing data yielded promising results.\n",
    "The model achieved a test accuracy of 94.04% and a test loss of 0.2081, indicating that it performs well in classifying handwritten digits from the TMNIST dataset. \n",
    "\n",
    "These metrics suggest that the model can effectively generalize to unseen data, showcasing its potential for real-world applications such as optical character recognition. \n",
    "\n",
    "To gain further insights into the model's performance, additional analysis could be conducted through visualizations such as confusion matrices, which provide a detailed breakdown of classification errors, and precision-recall curves, which offer a comprehensive view of the model's precision and recall across different thresholds.\n",
    "\n",
    "By leveraging such visualizations, we can delve deeper into understanding the model's strengths and weaknesses and identify potential areas for improvement."
   ]
  },
  {
   "cell_type": "markdown",
   "id": "1083691c",
   "metadata": {
    "papermill": {
     "duration": 0.538793,
     "end_time": "2024-04-09T23:27:35.767445",
     "exception": false,
     "start_time": "2024-04-09T23:27:35.228652",
     "status": "completed"
    },
    "tags": []
   },
   "source": [
    "# Step 6: Visualising the Results and losses."
   ]
  },
  {
   "cell_type": "markdown",
   "id": "723f7764",
   "metadata": {
    "papermill": {
     "duration": 0.506377,
     "end_time": "2024-04-09T23:27:36.776554",
     "exception": false,
     "start_time": "2024-04-09T23:27:36.270177",
     "status": "completed"
    },
    "tags": []
   },
   "source": [
    "Plotting the training and validation loss helps in monitoring the training progress, diagnosing potential issues like overfitting or underfitting, and optimizing the model's performance for better generalization to unseen data."
   ]
  },
  {
   "cell_type": "markdown",
   "id": "ac650f84",
   "metadata": {
    "papermill": {
     "duration": 0.499112,
     "end_time": "2024-04-09T23:27:37.770161",
     "exception": false,
     "start_time": "2024-04-09T23:27:37.271049",
     "status": "completed"
    },
    "tags": []
   },
   "source": [
    "#### Training and Validation Loss - Loss vs Epoch"
   ]
  },
  {
   "cell_type": "code",
   "execution_count": 15,
   "id": "951cffb7",
   "metadata": {
    "execution": {
     "iopub.execute_input": "2024-04-09T23:27:38.802114Z",
     "iopub.status.busy": "2024-04-09T23:27:38.801764Z",
     "iopub.status.idle": "2024-04-09T23:27:39.142142Z",
     "shell.execute_reply": "2024-04-09T23:27:39.141308Z"
    },
    "papermill": {
     "duration": 0.834998,
     "end_time": "2024-04-09T23:27:39.144308",
     "exception": false,
     "start_time": "2024-04-09T23:27:38.309310",
     "status": "completed"
    },
    "tags": []
   },
   "outputs": [
    {
     "data": {
      "image/png": "[encoded data removed]",
      "text/plain": [
       "<Figure size 1000x500 with 1 Axes>"
      ]
     },
     "metadata": {},
     "output_type": "display_data"
    }
   ],
   "source": [
    "import matplotlib.pyplot as plt\n",
    "from sklearn.metrics import roc_curve, auc\n",
    "\n",
    "# Plot training and validation loss\n",
    "plt.figure(figsize=(10, 5))\n",
    "plt.plot(history.history['loss'], label='Training Loss')\n",
    "plt.plot(history.history['val_loss'], label='Validation Loss')\n",
    "plt.title('Training and Validation Loss')\n",
    "plt.xlabel('Epoch')\n",
    "plt.ylabel('Loss')\n",
    "plt.legend()\n",
    "plt.show()"
   ]
  },
  {
   "cell_type": "markdown",
   "id": "26cfa98e",
   "metadata": {
    "papermill": {
     "duration": 0.504322,
     "end_time": "2024-04-09T23:27:40.145276",
     "exception": false,
     "start_time": "2024-04-09T23:27:39.640954",
     "status": "completed"
    },
    "tags": []
   },
   "source": [
    "Training Loss (Blue Line): This line shows the model’s loss on the training data. It starts at a higher value but decreases more steadily as the number of epochs increases. This indicates that the model is learning and improving its performance on the training data over time.\n",
    "\n",
    "Validation Loss (Orange Line): This line represents the model’s loss on the validation data. It also decreases as the number of epochs increases, but not as rapidly or consistently as the training loss.\n",
    "\n",
    "Inference: The decreasing trend in both training and validation loss suggests that the model is learning from the training process and its performance is improving. However, the slower decrease in validation loss compared to training loss might indicate that the model is not generalizing as well to new, unseen data. This could potentially lead to overfitting if the training continues for too many epochs. Monitoring both these metrics is crucial during the training process to ensure the model is learning effectively and not just memorizing the training data."
   ]
  },
  {
   "cell_type": "markdown",
   "id": "e2497906",
   "metadata": {
    "papermill": {
     "duration": 0.494533,
     "end_time": "2024-04-09T23:27:41.205654",
     "exception": false,
     "start_time": "2024-04-09T23:27:40.711121",
     "status": "completed"
    },
    "tags": []
   },
   "source": [
    "#### Training and Validation Accuracy - Accuracy vs Epoch"
   ]
  },
  {
   "cell_type": "code",
   "execution_count": 16,
   "id": "1f3c9d3c",
   "metadata": {
    "execution": {
     "iopub.execute_input": "2024-04-09T23:27:42.269222Z",
     "iopub.status.busy": "2024-04-09T23:27:42.268832Z",
     "iopub.status.idle": "2024-04-09T23:27:42.625055Z",
     "shell.execute_reply": "2024-04-09T23:27:42.624034Z"
    },
    "papermill": {
     "duration": 0.920196,
     "end_time": "2024-04-09T23:27:42.627930",
     "exception": false,
     "start_time": "2024-04-09T23:27:41.707734",
     "status": "completed"
    },
    "tags": []
   },
   "outputs": [
    {
     "data": {
      "image/png": "[encoded data removed]",
      "text/plain": [
       "<Figure size 1000x500 with 1 Axes>"
      ]
     },
     "metadata": {},
     "output_type": "display_data"
    }
   ],
   "source": [
    "\n",
    "# Plot training and validation accuracy\n",
    "plt.figure(figsize=(10, 5))\n",
    "plt.plot(history.history['accuracy'], label='Training Accuracy')\n",
    "plt.plot(history.history['val_accuracy'], label='Validation Accuracy')\n",
    "plt.title('Training and Validation Accuracy')\n",
    "plt.xlabel('Epoch')\n",
    "plt.ylabel('Accuracy')\n",
    "plt.legend()\n",
    "plt.show()"
   ]
  },
  {
   "cell_type": "markdown",
   "id": "cd5d1812",
   "metadata": {
    "papermill": {
     "duration": 0.498629,
     "end_time": "2024-04-09T23:27:43.684810",
     "exception": false,
     "start_time": "2024-04-09T23:27:43.186181",
     "status": "completed"
    },
    "tags": []
   },
   "source": [
    "Training Accuracy (Blue Line): This line shows the model’s accuracy on the training data. It starts at a lower value but increases as the number of epochs increases. This indicates that the model is learning and improving its performance on the training data over time.\n",
    "\n",
    "Validation Accuracy (Orange Line): This line represents the model’s accuracy on the validation data. It also increases as the number of epochs increases, but not as rapidly as the training accuracy.\n",
    "\n",
    "Inference: The increasing trend in both training and validation accuracy suggests that the model is learning from the training process and its performance is improving. However, the slower increase in validation accuracy compared to training accuracy might indicate that the model is not generalizing as well to new, unseen data. This could potentially lead to overfitting if the training continues for too many epochs. Monitoring both these metrics is crucial during the training process to ensure the model is learning effectively and not just memorizing the training data."
   ]
  },
  {
   "cell_type": "markdown",
   "id": "57f9be50",
   "metadata": {
    "papermill": {
     "duration": 0.499007,
     "end_time": "2024-04-09T23:27:44.680848",
     "exception": false,
     "start_time": "2024-04-09T23:27:44.181841",
     "status": "completed"
    },
    "tags": []
   },
   "source": [
    "#### Model Accucary Plot"
   ]
  },
  {
   "cell_type": "code",
   "execution_count": 17,
   "id": "03ff86dd",
   "metadata": {
    "execution": {
     "iopub.execute_input": "2024-04-09T23:27:45.723042Z",
     "iopub.status.busy": "2024-04-09T23:27:45.722078Z",
     "iopub.status.idle": "2024-04-09T23:27:46.051797Z",
     "shell.execute_reply": "2024-04-09T23:27:46.050885Z"
    },
    "papermill": {
     "duration": 0.869429,
     "end_time": "2024-04-09T23:27:46.054134",
     "exception": false,
     "start_time": "2024-04-09T23:27:45.184705",
     "status": "completed"
    },
    "tags": []
   },
   "outputs": [
    {
     "data": {
      "image/png": "[encoded data removed]",
      "text/plain": [
       "<Figure size 1400x600 with 1 Axes>"
      ]
     },
     "metadata": {},
     "output_type": "display_data"
    }
   ],
   "source": [
    "# Plot accuracy versus epochs\n",
    "plt.figure(figsize=(14, 6))\n",
    "plt.subplot(1,2,1)\n",
    "epochs=np.arange(100)\n",
    "plt.plot(history.history['accuracy'],label='train', color='#FF4500')\n",
    "plt.plot(history.history['val_accuracy'],label='test', color='#306844')\n",
    "plt.title('Model Accuracy')\n",
    "plt.ylabel('Accuracy')\n",
    "plt.xlabel('Epoch')\n",
    "plt.legend(['Train', 'Validation'], loc='upper left')\n",
    "plt.show()"
   ]
  },
  {
   "cell_type": "markdown",
   "id": "6a89a103",
   "metadata": {
    "papermill": {
     "duration": 0.503419,
     "end_time": "2024-04-09T23:27:47.052706",
     "exception": false,
     "start_time": "2024-04-09T23:27:46.549287",
     "status": "completed"
    },
    "tags": []
   },
   "source": [
    "Training Accuracy (Blue Line): This line shows the model’s accuracy on the training data. It starts at a lower value but increases as the number of epochs increases, indicating that the model is learning and improving its performance on the training data over time.\n",
    "\n",
    "Validation Accuracy (Orange Line): This line represents the model’s accuracy on the validation data. It also increases as the number of epochs increases, but not as rapidly as the training accuracy.\n",
    "\n",
    "Inference: The increasing trend in both training and validation accuracy suggests that the model is learning from the training process and its performance is improving. However, the slower increase in validation accuracy compared to training accuracy might indicate that the model is not generalizing as well to new, unseen data. This could potentially lead to overfitting if the training continues for too many epochs. Monitoring both these metrics is crucial during the training process to ensure the model is learning effectively and not just memorizing the training data. The plateauing of both accuracies indicates that the model’s learning has stabilized. Further training may not significantly improve the model’s performance."
   ]
  },
  {
   "cell_type": "code",
   "execution_count": 18,
   "id": "ea986700",
   "metadata": {
    "execution": {
     "iopub.execute_input": "2024-04-09T23:27:48.044804Z",
     "iopub.status.busy": "2024-04-09T23:27:48.044095Z",
     "iopub.status.idle": "2024-04-09T23:27:48.341405Z",
     "shell.execute_reply": "2024-04-09T23:27:48.340394Z"
    },
    "papermill": {
     "duration": 0.794556,
     "end_time": "2024-04-09T23:27:48.343541",
     "exception": false,
     "start_time": "2024-04-09T23:27:47.548985",
     "status": "completed"
    },
    "tags": []
   },
   "outputs": [
    {
     "data": {
      "image/png": "[encoded data removed]",
      "text/plain": [
       "<Figure size 640x480 with 1 Axes>"
      ]
     },
     "metadata": {},
     "output_type": "display_data"
    }
   ],
   "source": [
    "# Plot loss versus epochs\n",
    "plt.plot(history.history['loss'],label='train', color='#FF4500')\n",
    "plt.plot(history.history['val_loss'],label='test', color='#306844')\n",
    "plt.title('Model Loss')\n",
    "plt.xlabel('Epoch')\n",
    "plt.ylabel('Loss')\n",
    "plt.legend(['Train', 'Validation'])\n",
    "plt.show()"
   ]
  },
  {
   "cell_type": "markdown",
   "id": "a80408ad",
   "metadata": {
    "papermill": {
     "duration": 0.496597,
     "end_time": "2024-04-09T23:27:49.383569",
     "exception": false,
     "start_time": "2024-04-09T23:27:48.886972",
     "status": "completed"
    },
    "tags": []
   },
   "source": [
    "Training Loss (Red Line): This line shows the model’s loss on the training data. It starts at a higher value but decreases as the number of epochs increases, indicating that the model is learning and improving its performance on the training data over time.\n",
    "\n",
    "Validation Loss (Green Line): This line represents the model’s loss on the validation data. It also decreases as the number of epochs increases, but not as rapidly as the training loss.\n",
    "\n",
    "Inference: The decreasing trend in both training and validation loss suggests that the model is learning from the training process and its performance is improving. However, the slower decrease in validation loss compared to training loss might indicate that the model is not generalizing as well to new, unseen data. This could potentially lead to overfitting if the training continues for too many epochs. Monitoring both these metrics is crucial during the training process to ensure the model is learning effectively and not just memorizing the training data. The leveling off of both losses indicates that the model’s learning has stabilized. Further training may not significantly improve the model’s performance."
   ]
  },
  {
   "cell_type": "markdown",
   "id": "129f00d9",
   "metadata": {
    "papermill": {
     "duration": 0.497482,
     "end_time": "2024-04-09T23:27:50.365998",
     "exception": false,
     "start_time": "2024-04-09T23:27:49.868516",
     "status": "completed"
    },
    "tags": []
   },
   "source": [
    "# Conclusion\n",
    "In this tutorial, we've explored the process of building a handwritten digit classification model using the TMNIST dataset. By following these steps, once can develop our own  neural network model for handwritten digit recognition. Handwritten digit classification is a fascinating area of study with numerous real-world applications, and mastering it opens up exciting opportunities in machine learning and computer vision."
   ]
  },
  {
   "cell_type": "markdown",
   "id": "9592322b",
   "metadata": {
    "papermill": {
     "duration": 0.553386,
     "end_time": "2024-04-09T23:27:51.421365",
     "exception": false,
     "start_time": "2024-04-09T23:27:50.867979",
     "status": "completed"
    },
    "tags": []
   },
   "source": [
    "# References"
   ]
  },
  {
   "cell_type": "markdown",
   "id": "c41ce9ec",
   "metadata": {
    "papermill": {
     "duration": 0.492445,
     "end_time": "2024-04-09T23:27:52.406291",
     "exception": false,
     "start_time": "2024-04-09T23:27:51.913846",
     "status": "completed"
    },
    "tags": []
   },
   "source": [
    "* https://www.tensorflow.org/quantum/tutorials/mnist\n",
    "* https://www.youtube.com/watch?v=iqQgED9vV7k\n",
    "* https://www.kaggle.com/code/huchunjun/99-1-tmnist-typefacemnist-chunjunhu\n",
    "* https://www.kaggle.com/code/sheshngupta/tminst-character-recognition-94-4-accuracy"
   ]
  },
  {
   "cell_type": "markdown",
   "id": "d3f6e492",
   "metadata": {
    "papermill": {
     "duration": 0.55351,
     "end_time": "2024-04-09T23:27:53.465845",
     "exception": false,
     "start_time": "2024-04-09T23:27:52.912335",
     "status": "completed"
    },
    "tags": []
   },
   "source": [
    "MIT License\n",
    "\n",
    "Copyright (c) 2024 Shreyas Sreedhar\n",
    "\n",
    "Permission is hereby granted, free of charge, to any person obtaining a copy\n",
    "of this software and associated documentation files (the \"Software\"), to deal\n",
    "in the Software without restriction, including without limitation the rights\n",
    "to use, copy, modify, merge, publish, distribute, sublicense, and/or sell\n",
    "copies of the Software, and to permit persons to whom the Software is\n",
    "furnished to do so, subject to the following conditions:\n",
    "\n",
    "The above copyright notice and this permission notice shall be included in all\n",
    "copies or substantial portions of the Software.\n",
    "\n",
    "THE SOFTWARE IS PROVIDED \"AS IS\", WITHOUT WARRANTY OF ANY KIND, EXPRESS OR\n",
    "IMPLIED, INCLUDING BUT NOT LIMITED TO THE WARRANTIES OF MERCHANTABILITY,\n",
    "FITNESS FOR A PARTICULAR PURPOSE AND NONINFRINGEMENT. IN NO EVENT SHALL THE\n",
    "AUTHORS OR COPYRIGHT HOLDERS BE LIABLE FOR ANY CLAIM, DAMAGES OR OTHER\n",
    "LIABILITY, WHETHER IN AN ACTION OF CONTRACT, TORT OR OTHERWISE, ARISING FROM,\n",
    "OUT OF OR IN CONNECTION WITH THE SOFTWARE OR THE USE OR OTHER DEALINGS IN THE\n",
    "SOFTWARE."
   ]
  }
 ],
 "metadata": {
  "kaggle": {
   "accelerator": "nvidiaTeslaT4",
   "dataSources": [
    {
     "datasetId": 1564532,
     "sourceId": 2830968,
     "sourceType": "datasetVersion"
    }
   ],
   "dockerImageVersionId": 30683,
   "isGpuEnabled": true,
   "isInternetEnabled": false,
   "language": "python",
   "sourceType": "notebook"
  },
  "kernelspec": {
   "display_name": "Python 3",
   "language": "python",
   "name": "python3"
  },
  "language_info": {
   "codemirror_mode": {
    "name": "ipython",
    "version": 3
   },
   "file_extension": ".py",
   "mimetype": "text/x-python",
   "name": "python",
   "nbconvert_exporter": "python",
   "pygments_lexer": "ipython3",
   "version": "3.10.13"
  },
  "papermill": {
   "default_parameters": {},
   "duration": 447.886763,
   "end_time": "2024-04-09T23:27:56.222196",
   "environment_variables": {},
   "exception": null,
   "input_path": "__notebook__.ipynb",
   "output_path": "__notebook__.ipynb",
   "parameters": {},
   "start_time": "2024-04-09T23:20:28.335433",
   "version": "2.5.0"
  }
 },
 "nbformat": 4,
 "nbformat_minor": 5
}
