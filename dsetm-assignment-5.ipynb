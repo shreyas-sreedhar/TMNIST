{
 "cells": [
  {
   "cell_type": "markdown",
   "id": "0087f77b",
   "metadata": {
    "papermill": {
     "duration": 0.013964,
     "end_time": "2024-04-09T23:56:35.080825",
     "exception": false,
     "start_time": "2024-04-09T23:56:35.066861",
     "status": "completed"
    },
    "tags": []
   },
   "source": [
    "# **DSETM-Assignment 5 - Building a Handwritten Digit Classification Model using TMNIST Dataset**"
   ]
  },
  {
   "cell_type": "markdown",
   "id": "9ce5ef61",
   "metadata": {
    "papermill": {
     "duration": 0.012128,
     "end_time": "2024-04-09T23:56:35.105887",
     "exception": false,
     "start_time": "2024-04-09T23:56:35.093759",
     "status": "completed"
    },
    "tags": []
   },
   "source": [
    "Contributor - Shreyas S Sreedhar"
   ]
  },
  {
   "cell_type": "markdown",
   "id": "6c9af393",
   "metadata": {
    "papermill": {
     "duration": 0.011252,
     "end_time": "2024-04-09T23:56:35.130739",
     "exception": false,
     "start_time": "2024-04-09T23:56:35.119487",
     "status": "completed"
    },
    "tags": []
   },
   "source": [
    "# **Introduction**"
   ]
  },
  {
   "cell_type": "markdown",
   "id": "08ee4aca",
   "metadata": {
    "papermill": {
     "duration": 0.011764,
     "end_time": "2024-04-09T23:56:35.155058",
     "exception": false,
     "start_time": "2024-04-09T23:56:35.143294",
     "status": "completed"
    },
    "tags": []
   },
   "source": [
    "\n",
    "Introduction\n",
    "Handwritten digit classification is an essential task in machine learning and computer vision. It involves teaching a computer to recognize and categorize handwritten numbers accurately. In this tutorial, we'll explore how to build a handwritten digit classification model using the TMNIST dataset. TMNIST offers a unique twist compared to the traditional MNIST dataset by including images of digits written in various font styles, providing a broader perspective on handwritten digit classification."
   ]
  },
  {
   "cell_type": "markdown",
   "id": "6d2569e3",
   "metadata": {
    "papermill": {
     "duration": 0.011616,
     "end_time": "2024-04-09T23:56:35.178516",
     "exception": false,
     "start_time": "2024-04-09T23:56:35.166900",
     "status": "completed"
    },
    "tags": []
   },
   "source": [
    "# **Dataset Overview**\n",
    "\n",
    "The TMNIST dataset contains MNIST-style images of 94 different alphabetic characters, including digits (0-9) and uppercase and lowercase letters (a-z, A-Z). Each image is represented as a grayscale pixel matrix with dimensions 28x28, similar to the standard MNIST dataset."
   ]
  },
  {
   "cell_type": "markdown",
   "id": "8a5b8e7f",
   "metadata": {
    "papermill": {
     "duration": 0.011612,
     "end_time": "2024-04-09T23:56:35.201733",
     "exception": false,
     "start_time": "2024-04-09T23:56:35.190121",
     "status": "completed"
    },
    "tags": []
   },
   "source": [
    "# **Data Description**\n",
    "The dataset is stored in a file named \"TMNIST_Data.csv\" and consists of the following columns:\n",
    "\n",
    "'names': Font file names like 'Acme-Regular' or 'ZillaSlab-Bold'\n",
    "'labels': Characters such as '@', 'E', or '+'\n",
    "Columns '1' to '784': Grayscale pixel values for each image\n",
    "With over 281,000 images, the TMNIST dataset provides a rich resource for training and testing handwritten digit classification models.\n",
    "\n",
    "\n",
    "Dataset - https://www.kaggle.com/datasets/nikbearbrown/tmnist-alphabet-94-characters\n"
   ]
  },
  {
   "cell_type": "code",
   "execution_count": 1,
   "id": "aa6b7dbc",
   "metadata": {
    "_cell_guid": "b1076dfc-b9ad-4769-8c92-a6c4dae69d19",
    "_uuid": "8f2839f25d086af736a60e9eeb907d3b93b6e0e5",
    "execution": {
     "iopub.execute_input": "2024-04-09T23:56:35.226146Z",
     "iopub.status.busy": "2024-04-09T23:56:35.225806Z",
     "iopub.status.idle": "2024-04-09T23:56:36.612447Z",
     "shell.execute_reply": "2024-04-09T23:56:36.611492Z"
    },
    "papermill": {
     "duration": 1.401448,
     "end_time": "2024-04-09T23:56:36.614784",
     "exception": false,
     "start_time": "2024-04-09T23:56:35.213336",
     "status": "completed"
    },
    "tags": []
   },
   "outputs": [
    {
     "name": "stdout",
     "output_type": "stream",
     "text": [
      "/kaggle/input/tmnist-alphabet-94-characters/94_character_TMNIST.csv\n"
     ]
    }
   ],
   "source": [
    "# This Python 3 environment comes with many helpful analytics libraries installed\n",
    "# It is defined by the kaggle/python Docker image: https://github.com/kaggle/docker-python\n",
    "# For example, here's several helpful packages to load\n",
    "\n",
    "import numpy as np # linear algebra\n",
    "import pandas as pd # data processing, CSV file I/O (e.g. pd.read_csv)\n",
    "\n",
    "# Input data files are available in the read-only \"../input/\" directory\n",
    "# For example, running this (by clicking run or pressing Shift+Enter) will list all files under the input directory\n",
    "\n",
    "import os\n",
    "for dirname, _, filenames in os.walk('/kaggle/input'):\n",
    "    for filename in filenames:\n",
    "        print(os.path.join(dirname, filename))\n",
    "\n",
    "# You can write up to 20GB to the current directory (/kaggle/working/) that gets preserved as output when you create a version using \"Save & Run All\" \n",
    "# You can also write temporary files to /kaggle/temp/, but they won't be saved outside of the current session"
   ]
  },
  {
   "cell_type": "markdown",
   "id": "d7de5e05",
   "metadata": {
    "papermill": {
     "duration": 0.011334,
     "end_time": "2024-04-09T23:56:36.638413",
     "exception": false,
     "start_time": "2024-04-09T23:56:36.627079",
     "status": "completed"
    },
    "tags": []
   },
   "source": [
    "# Step 0: Importing Necessary Items. "
   ]
  },
  {
   "cell_type": "code",
   "execution_count": 2,
   "id": "1dec37e3",
   "metadata": {
    "execution": {
     "iopub.execute_input": "2024-04-09T23:56:36.663113Z",
     "iopub.status.busy": "2024-04-09T23:56:36.662589Z",
     "iopub.status.idle": "2024-04-09T23:56:57.744248Z",
     "shell.execute_reply": "2024-04-09T23:56:57.743129Z"
    },
    "papermill": {
     "duration": 21.096992,
     "end_time": "2024-04-09T23:56:57.746959",
     "exception": false,
     "start_time": "2024-04-09T23:56:36.649967",
     "status": "completed"
    },
    "tags": []
   },
   "outputs": [
    {
     "name": "stderr",
     "output_type": "stream",
     "text": [
      "2024-04-09 23:56:42.488886: E external/local_xla/xla/stream_executor/cuda/cuda_dnn.cc:9261] Unable to register cuDNN factory: Attempting to register factory for plugin cuDNN when one has already been registered\n",
      "2024-04-09 23:56:42.489012: E external/local_xla/xla/stream_executor/cuda/cuda_fft.cc:607] Unable to register cuFFT factory: Attempting to register factory for plugin cuFFT when one has already been registered\n",
      "2024-04-09 23:56:42.761161: E external/local_xla/xla/stream_executor/cuda/cuda_blas.cc:1515] Unable to register cuBLAS factory: Attempting to register factory for plugin cuBLAS when one has already been registered\n"
     ]
    }
   ],
   "source": [
    "from sklearn.model_selection import train_test_split\n",
    "from sklearn.preprocessing import LabelEncoder\n",
    "from keras.models import Sequential\n",
    "from keras.layers import Conv2D, MaxPooling2D, Flatten, Dense\n",
    "from keras.utils import to_categorical\n",
    "from keras.layers import Input\n",
    "from keras.layers import Dropout, BatchNormalization"
   ]
  },
  {
   "cell_type": "markdown",
   "id": "f0498ce9",
   "metadata": {
    "papermill": {
     "duration": 0.012851,
     "end_time": "2024-04-09T23:56:57.773286",
     "exception": false,
     "start_time": "2024-04-09T23:56:57.760435",
     "status": "completed"
    },
    "tags": []
   },
   "source": [
    "# Step 1: Data Preprocessing\n",
    "We start by preparing our data for training. This involves loading the TMNIST dataset, scaling pixel values to a suitable range, and splitting the data into training and testing sets."
   ]
  },
  {
   "cell_type": "code",
   "execution_count": 3,
   "id": "ffcf0d4b",
   "metadata": {
    "execution": {
     "iopub.execute_input": "2024-04-09T23:56:57.801356Z",
     "iopub.status.busy": "2024-04-09T23:56:57.800673Z",
     "iopub.status.idle": "2024-04-09T23:57:40.092476Z",
     "shell.execute_reply": "2024-04-09T23:57:40.091441Z"
    },
    "papermill": {
     "duration": 42.319582,
     "end_time": "2024-04-09T23:57:40.106069",
     "exception": false,
     "start_time": "2024-04-09T23:56:57.786487",
     "status": "completed"
    },
    "tags": []
   },
   "outputs": [
    {
     "data": {
      "text/html": [
       "<div>\n",
       "<style scoped>\n",
       "    .dataframe tbody tr th:only-of-type {\n",
       "        vertical-align: middle;\n",
       "    }\n",
       "\n",
       "    .dataframe tbody tr th {\n",
       "        vertical-align: top;\n",
       "    }\n",
       "\n",
       "    .dataframe thead th {\n",
       "        text-align: right;\n",
       "    }\n",
       "</style>\n",
       "<table border=\"1\" class=\"dataframe\">\n",
       "  <thead>\n",
       "    <tr style=\"text-align: right;\">\n",
       "      <th></th>\n",
       "      <th>names</th>\n",
       "      <th>labels</th>\n",
       "      <th>1</th>\n",
       "      <th>2</th>\n",
       "      <th>3</th>\n",
       "      <th>4</th>\n",
       "      <th>5</th>\n",
       "      <th>6</th>\n",
       "      <th>7</th>\n",
       "      <th>8</th>\n",
       "      <th>...</th>\n",
       "      <th>775</th>\n",
       "      <th>776</th>\n",
       "      <th>777</th>\n",
       "      <th>778</th>\n",
       "      <th>779</th>\n",
       "      <th>780</th>\n",
       "      <th>781</th>\n",
       "      <th>782</th>\n",
       "      <th>783</th>\n",
       "      <th>784</th>\n",
       "    </tr>\n",
       "  </thead>\n",
       "  <tbody>\n",
       "    <tr>\n",
       "      <th>0</th>\n",
       "      <td>Salsa-Regular</td>\n",
       "      <td>6</td>\n",
       "      <td>0.0</td>\n",
       "      <td>0.0</td>\n",
       "      <td>0.0</td>\n",
       "      <td>0.0</td>\n",
       "      <td>0.0</td>\n",
       "      <td>0.0</td>\n",
       "      <td>0.0</td>\n",
       "      <td>0.0</td>\n",
       "      <td>...</td>\n",
       "      <td>0.0</td>\n",
       "      <td>0.0</td>\n",
       "      <td>0.0</td>\n",
       "      <td>0.0</td>\n",
       "      <td>0.0</td>\n",
       "      <td>0.0</td>\n",
       "      <td>0.0</td>\n",
       "      <td>0.0</td>\n",
       "      <td>0.0</td>\n",
       "      <td>0.0</td>\n",
       "    </tr>\n",
       "    <tr>\n",
       "      <th>1</th>\n",
       "      <td>MouseMemoirs-Regular</td>\n",
       "      <td>D</td>\n",
       "      <td>0.0</td>\n",
       "      <td>0.0</td>\n",
       "      <td>0.0</td>\n",
       "      <td>0.0</td>\n",
       "      <td>0.0</td>\n",
       "      <td>0.0</td>\n",
       "      <td>0.0</td>\n",
       "      <td>0.0</td>\n",
       "      <td>...</td>\n",
       "      <td>0.0</td>\n",
       "      <td>0.0</td>\n",
       "      <td>0.0</td>\n",
       "      <td>0.0</td>\n",
       "      <td>0.0</td>\n",
       "      <td>0.0</td>\n",
       "      <td>0.0</td>\n",
       "      <td>0.0</td>\n",
       "      <td>0.0</td>\n",
       "      <td>0.0</td>\n",
       "    </tr>\n",
       "    <tr>\n",
       "      <th>2</th>\n",
       "      <td>Creepster-Regular</td>\n",
       "      <td>f</td>\n",
       "      <td>0.0</td>\n",
       "      <td>0.0</td>\n",
       "      <td>0.0</td>\n",
       "      <td>0.0</td>\n",
       "      <td>0.0</td>\n",
       "      <td>0.0</td>\n",
       "      <td>0.0</td>\n",
       "      <td>0.0</td>\n",
       "      <td>...</td>\n",
       "      <td>0.0</td>\n",
       "      <td>0.0</td>\n",
       "      <td>0.0</td>\n",
       "      <td>0.0</td>\n",
       "      <td>0.0</td>\n",
       "      <td>0.0</td>\n",
       "      <td>0.0</td>\n",
       "      <td>0.0</td>\n",
       "      <td>0.0</td>\n",
       "      <td>0.0</td>\n",
       "    </tr>\n",
       "    <tr>\n",
       "      <th>3</th>\n",
       "      <td>SeoulNamsan-Light</td>\n",
       "      <td>/</td>\n",
       "      <td>0.0</td>\n",
       "      <td>0.0</td>\n",
       "      <td>0.0</td>\n",
       "      <td>0.0</td>\n",
       "      <td>0.0</td>\n",
       "      <td>0.0</td>\n",
       "      <td>0.0</td>\n",
       "      <td>0.0</td>\n",
       "      <td>...</td>\n",
       "      <td>0.0</td>\n",
       "      <td>0.0</td>\n",
       "      <td>0.0</td>\n",
       "      <td>0.0</td>\n",
       "      <td>0.0</td>\n",
       "      <td>0.0</td>\n",
       "      <td>0.0</td>\n",
       "      <td>0.0</td>\n",
       "      <td>0.0</td>\n",
       "      <td>0.0</td>\n",
       "    </tr>\n",
       "    <tr>\n",
       "      <th>4</th>\n",
       "      <td>HachiMaruPop-Regular</td>\n",
       "      <td>F</td>\n",
       "      <td>0.0</td>\n",
       "      <td>0.0</td>\n",
       "      <td>0.0</td>\n",
       "      <td>0.0</td>\n",
       "      <td>0.0</td>\n",
       "      <td>0.0</td>\n",
       "      <td>0.0</td>\n",
       "      <td>0.0</td>\n",
       "      <td>...</td>\n",
       "      <td>0.0</td>\n",
       "      <td>0.0</td>\n",
       "      <td>0.0</td>\n",
       "      <td>0.0</td>\n",
       "      <td>0.0</td>\n",
       "      <td>0.0</td>\n",
       "      <td>0.0</td>\n",
       "      <td>0.0</td>\n",
       "      <td>0.0</td>\n",
       "      <td>0.0</td>\n",
       "    </tr>\n",
       "  </tbody>\n",
       "</table>\n",
       "<p>5 rows × 786 columns</p>\n",
       "</div>"
      ],
      "text/plain": [
       "                  names labels    1    2    3    4    5    6    7    8  ...  \\\n",
       "0         Salsa-Regular      6  0.0  0.0  0.0  0.0  0.0  0.0  0.0  0.0  ...   \n",
       "1  MouseMemoirs-Regular      D  0.0  0.0  0.0  0.0  0.0  0.0  0.0  0.0  ...   \n",
       "2     Creepster-Regular      f  0.0  0.0  0.0  0.0  0.0  0.0  0.0  0.0  ...   \n",
       "3     SeoulNamsan-Light      /  0.0  0.0  0.0  0.0  0.0  0.0  0.0  0.0  ...   \n",
       "4  HachiMaruPop-Regular      F  0.0  0.0  0.0  0.0  0.0  0.0  0.0  0.0  ...   \n",
       "\n",
       "   775  776  777  778  779  780  781  782  783  784  \n",
       "0  0.0  0.0  0.0  0.0  0.0  0.0  0.0  0.0  0.0  0.0  \n",
       "1  0.0  0.0  0.0  0.0  0.0  0.0  0.0  0.0  0.0  0.0  \n",
       "2  0.0  0.0  0.0  0.0  0.0  0.0  0.0  0.0  0.0  0.0  \n",
       "3  0.0  0.0  0.0  0.0  0.0  0.0  0.0  0.0  0.0  0.0  \n",
       "4  0.0  0.0  0.0  0.0  0.0  0.0  0.0  0.0  0.0  0.0  \n",
       "\n",
       "[5 rows x 786 columns]"
      ]
     },
     "execution_count": 3,
     "metadata": {},
     "output_type": "execute_result"
    }
   ],
   "source": [
    "df = pd.read_csv(\"/kaggle/input/tmnist-alphabet-94-characters/94_character_TMNIST.csv\")\n",
    "df.head()"
   ]
  },
  {
   "cell_type": "code",
   "execution_count": 4,
   "id": "18914b2b",
   "metadata": {
    "execution": {
     "iopub.execute_input": "2024-04-09T23:57:40.131026Z",
     "iopub.status.busy": "2024-04-09T23:57:40.130730Z",
     "iopub.status.idle": "2024-04-09T23:57:40.135791Z",
     "shell.execute_reply": "2024-04-09T23:57:40.134867Z"
    },
    "papermill": {
     "duration": 0.019753,
     "end_time": "2024-04-09T23:57:40.137652",
     "exception": false,
     "start_time": "2024-04-09T23:57:40.117899",
     "status": "completed"
    },
    "tags": []
   },
   "outputs": [
    {
     "name": "stdout",
     "output_type": "stream",
     "text": [
      "The Shape of the Dataframe is: (274093, 786)\n",
      "Number of Samples: 274093\n"
     ]
    }
   ],
   "source": [
    "print(f\"The Shape of the Dataframe is: {df.shape}\")\n",
    "print(f\"Number of Samples: {df.shape[0]}\")"
   ]
  },
  {
   "cell_type": "markdown",
   "id": "9be88551",
   "metadata": {
    "papermill": {
     "duration": 0.011703,
     "end_time": "2024-04-09T23:57:40.160964",
     "exception": false,
     "start_time": "2024-04-09T23:57:40.149261",
     "status": "completed"
    },
    "tags": []
   },
   "source": [
    "The Shape of the Dataframe is: (274093, 786): This line is the output of the first print statement. It shows the shape of the DataFrame df, where 274093 represents the number of rows and 786 represents the number of columns.\n",
    "\n",
    "Number of Samples: 274093: This line is the output of the second print statement. It displays the number of samples in the DataFrame, which is equal to the number of rows in this case (274093), indicating the total number of records or instances in the dataset.\n",
    "\n",
    "In summary, the code provides information about the shape of the DataFrame (number of rows and columns) and explicitly mentions the number of samples (number of rows) in the DataFrame. "
   ]
  },
  {
   "cell_type": "code",
   "execution_count": 5,
   "id": "43c33e51",
   "metadata": {
    "execution": {
     "iopub.execute_input": "2024-04-09T23:57:40.185312Z",
     "iopub.status.busy": "2024-04-09T23:57:40.185032Z",
     "iopub.status.idle": "2024-04-09T23:57:40.216028Z",
     "shell.execute_reply": "2024-04-09T23:57:40.215092Z"
    },
    "papermill": {
     "duration": 0.045248,
     "end_time": "2024-04-09T23:57:40.217832",
     "exception": false,
     "start_time": "2024-04-09T23:57:40.172584",
     "status": "completed"
    },
    "tags": []
   },
   "outputs": [
    {
     "name": "stdout",
     "output_type": "stream",
     "text": [
      "Number of unique character present in the Dataset: 94\n"
     ]
    }
   ],
   "source": [
    "# Number of unique character in the Dataframe\n",
    "print(f\"Number of unique character present in the Dataset: {len(df.labels.unique())}\")"
   ]
  },
  {
   "cell_type": "code",
   "execution_count": 6,
   "id": "d3881b45",
   "metadata": {
    "execution": {
     "iopub.execute_input": "2024-04-09T23:57:40.242591Z",
     "iopub.status.busy": "2024-04-09T23:57:40.242324Z",
     "iopub.status.idle": "2024-04-09T23:57:40.276907Z",
     "shell.execute_reply": "2024-04-09T23:57:40.275889Z"
    },
    "papermill": {
     "duration": 0.04899,
     "end_time": "2024-04-09T23:57:40.278916",
     "exception": false,
     "start_time": "2024-04-09T23:57:40.229926",
     "status": "completed"
    },
    "tags": []
   },
   "outputs": [
    {
     "name": "stdout",
     "output_type": "stream",
     "text": [
      "Number of unique fonts present in the Dataset: 2990\n"
     ]
    }
   ],
   "source": [
    "# Number of Fonts in the Dataframe\n",
    "print(f\"Number of unique fonts present in the Dataset: {len(df.names.unique())}\")"
   ]
  },
  {
   "cell_type": "markdown",
   "id": "dab149c6",
   "metadata": {
    "papermill": {
     "duration": 0.011442,
     "end_time": "2024-04-09T23:57:40.302444",
     "exception": false,
     "start_time": "2024-04-09T23:57:40.291002",
     "status": "completed"
    },
    "tags": []
   },
   "source": [
    "# Step 2: Model Preparation\n",
    "Next, we design our neural network architecture using a basic CNNs. CNNs are commonly used for image classification tasks due to their ability to capture spatial patterns effectively.\n",
    "\n"
   ]
  },
  {
   "cell_type": "markdown",
   "id": "f932a997",
   "metadata": {
    "papermill": {
     "duration": 0.011514,
     "end_time": "2024-04-09T23:57:40.325691",
     "exception": false,
     "start_time": "2024-04-09T23:57:40.314177",
     "status": "completed"
    },
    "tags": []
   },
   "source": []
  },
  {
   "cell_type": "code",
   "execution_count": 7,
   "id": "fffb3a57",
   "metadata": {
    "execution": {
     "iopub.execute_input": "2024-04-09T23:57:40.350517Z",
     "iopub.status.busy": "2024-04-09T23:57:40.350188Z",
     "iopub.status.idle": "2024-04-09T23:57:41.256223Z",
     "shell.execute_reply": "2024-04-09T23:57:41.255400Z"
    },
    "papermill": {
     "duration": 0.921282,
     "end_time": "2024-04-09T23:57:41.258731",
     "exception": false,
     "start_time": "2024-04-09T23:57:40.337449",
     "status": "completed"
    },
    "tags": []
   },
   "outputs": [],
   "source": [
    "# Preprocess the data\n",
    "X = df.iloc[:, 2:].values.astype('float32') / 255.0  # Normalize pixel values\n",
    "y = df['labels'].values"
   ]
  },
  {
   "cell_type": "markdown",
   "id": "c0b11163",
   "metadata": {
    "papermill": {
     "duration": 0.011687,
     "end_time": "2024-04-09T23:57:41.283369",
     "exception": false,
     "start_time": "2024-04-09T23:57:41.271682",
     "status": "completed"
    },
    "tags": []
   },
   "source": [
    "The provided code segment demonstrates data preprocessing steps for machine learning tasks, specifically for image classification using a DataFrame df.\n",
    "\n",
    "X = df.iloc[:, 2:].values.astype('float32') / 255.0: This line of code selects all rows and columns starting from the third column (index 2) to the last column of the DataFrame df. It then converts these selected pixel values into a NumPy array of float32 data type and normalizes them by dividing each pixel value by 255.0. This normalization step scales the pixel values to a range between 0 and 1, which is commonly done to improve the convergence and performance of machine learning models.\n",
    "\n",
    "y = df['labels'].values: This line of code extracts the target variable, typically denoted as 'y', from the DataFrame df. It selects the 'labels' column and retrieves its values, which represent the class labels or categories associated with each image in the dataset. These class labels will be used for training the machine learning model to predict the corresponding classes of new images.\n",
    "\n"
   ]
  },
  {
   "cell_type": "code",
   "execution_count": 8,
   "id": "0e041d74",
   "metadata": {
    "execution": {
     "iopub.execute_input": "2024-04-09T23:57:41.309701Z",
     "iopub.status.busy": "2024-04-09T23:57:41.309352Z",
     "iopub.status.idle": "2024-04-09T23:57:41.412097Z",
     "shell.execute_reply": "2024-04-09T23:57:41.411295Z"
    },
    "papermill": {
     "duration": 0.118725,
     "end_time": "2024-04-09T23:57:41.414786",
     "exception": false,
     "start_time": "2024-04-09T23:57:41.296061",
     "status": "completed"
    },
    "tags": []
   },
   "outputs": [],
   "source": [
    "# One-hot encode labels\n",
    "label_encoder = LabelEncoder()\n",
    "y = label_encoder.fit_transform(y)\n",
    "y = to_categorical(y)\n"
   ]
  },
  {
   "cell_type": "markdown",
   "id": "4a5abe76",
   "metadata": {
    "papermill": {
     "duration": 0.012076,
     "end_time": "2024-04-09T23:57:41.439108",
     "exception": false,
     "start_time": "2024-04-09T23:57:41.427032",
     "status": "completed"
    },
    "tags": []
   },
   "source": [
    "The code snippet provided performs one-hot encoding for the labels, which is a common technique used in machine learning tasks, particularly in classification problems with categorical data.\n",
    "\n",
    "label_encoder = LabelEncoder(): This line initializes a LabelEncoder object, which is a utility class provided by scikit-learn for encoding categorical labels into numerical values.\n",
    "\n",
    "y = label_encoder.fit_transform(y): Here, the fit_transform method of the LabelEncoder object is applied to the target variable y. This method first fits the encoder to the unique categories present in y and then transforms the original categorical labels into numerical values.\n",
    "\n",
    "y = to_categorical(y): This line further processes the transformed numerical labels y using the to_categorical function from Keras utilities (keras.utils). This function converts the numerical labels into a one-hot encoded representation, where each label is represented as a binary vector with a '1' at the index corresponding to the class label and '0's elsewhere."
   ]
  },
  {
   "cell_type": "code",
   "execution_count": 9,
   "id": "13c0609f",
   "metadata": {
    "execution": {
     "iopub.execute_input": "2024-04-09T23:57:41.464618Z",
     "iopub.status.busy": "2024-04-09T23:57:41.464052Z",
     "iopub.status.idle": "2024-04-09T23:57:41.468442Z",
     "shell.execute_reply": "2024-04-09T23:57:41.467536Z"
    },
    "papermill": {
     "duration": 0.019156,
     "end_time": "2024-04-09T23:57:41.470451",
     "exception": false,
     "start_time": "2024-04-09T23:57:41.451295",
     "status": "completed"
    },
    "tags": []
   },
   "outputs": [],
   "source": [
    "# Reshape features\n",
    "X = X.reshape(-1, 28, 28, 1)  # Reshape to (num_samples, width, height, channels)\n"
   ]
  },
  {
   "cell_type": "code",
   "execution_count": 10,
   "id": "aabb8a6a",
   "metadata": {
    "execution": {
     "iopub.execute_input": "2024-04-09T23:57:41.495718Z",
     "iopub.status.busy": "2024-04-09T23:57:41.494960Z",
     "iopub.status.idle": "2024-04-09T23:57:43.863972Z",
     "shell.execute_reply": "2024-04-09T23:57:43.862947Z"
    },
    "papermill": {
     "duration": 2.384127,
     "end_time": "2024-04-09T23:57:43.866551",
     "exception": false,
     "start_time": "2024-04-09T23:57:41.482424",
     "status": "completed"
    },
    "tags": []
   },
   "outputs": [],
   "source": [
    "# Split the data into training and testing sets\n",
    "X_train, X_test, y_train, y_test = train_test_split(X, y, test_size=0.2, random_state=42)"
   ]
  },
  {
   "cell_type": "markdown",
   "id": "a8e5611f",
   "metadata": {
    "papermill": {
     "duration": 0.012097,
     "end_time": "2024-04-09T23:57:43.891206",
     "exception": false,
     "start_time": "2024-04-09T23:57:43.879109",
     "status": "completed"
    },
    "tags": []
   },
   "source": [
    "Purpose of Data Splitting:\n",
    "\n",
    "Training Set: The training set is used to train the CNN model. During training, the model learns the patterns and features present in the input data and adjusts its parameters accordingly to minimize the loss function.\n",
    "Testing Set: The testing set is used to evaluate the performance of the trained model on unseen data. By evaluating the model on data it hasn't seen during training, we can assess its ability to generalize to new, unseen examples. This step is crucial for understanding how well the model will perform in real-world scenarios.\n",
    "Benefits of Data Splitting for CNNs:\n",
    "\n",
    "Prevents Overfitting: CNNs, like other machine learning models, are susceptible to overfitting, where the model learns to memorize the training data rather than generalize to new data. By splitting the data into training and testing sets, we can evaluate the model's performance on unseen data and detect if it has overfit the training data.\n",
    "Provides Unbiased Evaluation: Evaluating the model on a separate testing set ensures an unbiased assessment of its performance. If we were to evaluate the model on the same data used for training, the performance metrics would likely be overly optimistic and not reflect its true ability to generalize.\n",
    "Tuning Model Parameters: Data splitting allows for the tuning of model hyperparameters based on performance metrics obtained from the testing set. This iterative process of training, evaluation, and parameter tuning helps improve the model's performance and robustness.\n",
    "Importance of Random State:\n",
    "\n",
    "Setting a random_state ensures reproducibility of the data split. By specifying a random seed (random_state=42 in this case), the data splitting process will yield the same train-test split each time the code is executed. This is essential for reproducibility and ensures consistency in model evaluation and comparison across different runs."
   ]
  },
  {
   "cell_type": "markdown",
   "id": "26c88a8d",
   "metadata": {
    "papermill": {
     "duration": 0.011637,
     "end_time": "2024-04-09T23:57:43.915362",
     "exception": false,
     "start_time": "2024-04-09T23:57:43.903725",
     "status": "completed"
    },
    "tags": []
   },
   "source": [
    "# Step 3: Model Definition with Explicit Input Shape Declaration\n"
   ]
  },
  {
   "cell_type": "code",
   "execution_count": 11,
   "id": "1e913897",
   "metadata": {
    "execution": {
     "iopub.execute_input": "2024-04-09T23:57:43.940991Z",
     "iopub.status.busy": "2024-04-09T23:57:43.940345Z",
     "iopub.status.idle": "2024-04-09T23:57:45.029674Z",
     "shell.execute_reply": "2024-04-09T23:57:45.028651Z"
    },
    "papermill": {
     "duration": 1.105003,
     "end_time": "2024-04-09T23:57:45.032372",
     "exception": false,
     "start_time": "2024-04-09T23:57:43.927369",
     "status": "completed"
    },
    "tags": []
   },
   "outputs": [],
   "source": [
    "# Define the input shape explicitly using an Input layer\n",
    "input_layer = Input(shape=(28, 28, 1))\n",
    "\n",
    "# Create the Sequential model with the layers\n",
    "model = Sequential([\n",
    "    Conv2D(32, (3, 3), activation='relu'),\n",
    "    MaxPooling2D((2, 2)),\n",
    "    Conv2D(64, (3, 3), activation='relu'),\n",
    "    MaxPooling2D((2, 2)),\n",
    "    Flatten(),\n",
    "    Dense(128, activation='relu'),\n",
    "    Dropout(0.5),\n",
    "    Dense(94, activation='softmax')\n",
    "])"
   ]
  },
  {
   "cell_type": "markdown",
   "id": "a67ac7b1",
   "metadata": {
    "papermill": {
     "duration": 0.012206,
     "end_time": "2024-04-09T23:57:45.057158",
     "exception": false,
     "start_time": "2024-04-09T23:57:45.044952",
     "status": "completed"
    },
    "tags": []
   },
   "source": [
    "Input Layer Declaration:\n",
    "\n",
    "Here, an input layer is explicitly defined using the Input function from the Keras layers module. The shape argument specifies the shape of the input data, which in this case is a 28x28 pixel grayscale image ((28, 28, 1)). The last dimension, 1, indicates that the image is grayscale, as it has only one channel."
   ]
  },
  {
   "cell_type": "markdown",
   "id": "15c3e58f",
   "metadata": {
    "papermill": {
     "duration": 0.01178,
     "end_time": "2024-04-09T23:57:45.081126",
     "exception": false,
     "start_time": "2024-04-09T23:57:45.069346",
     "status": "completed"
    },
    "tags": []
   },
   "source": [
    "### Convolutional neural network (CNN) model using Keras' Sequential API.\n",
    "The model consists of the following layers:\n",
    "\n",
    "Convolutional Layers: Two convolutional layers (Conv2D) with 32 and 64 filters, respectively, each having a kernel size of (3, 3) and using ReLU activation functions.\n",
    "\n",
    "Pooling Layers: Two max-pooling layers (MaxPooling2D) with pool sizes of (2, 2), which reduce the spatial dimensions of the feature maps.\n",
    "\n",
    "Flatten Layer: Flattens the output of the convolutional layers into a one-dimensional vector to be fed into the dense layers.\n",
    "\n",
    "Dense Layers: Two dense layers (Dense) with 128 and 94 units, respectively. The first dense layer uses ReLU activation, while the second dense layer uses softmax activation, suitable for multi-class classification tasks.\n",
    "\n",
    "Dropout Layer: A dropout layer (Dropout) with a dropout rate of 0.5, which helps prevent overfitting by randomly dropping out units during training.\n",
    "\n",
    "\n",
    "We define a CNN model architecture for image classification tasks, specifically for classifying 28x28 pixel grayscale images into one of 94 categories. The model architecture consists of convolutional layers for feature extraction, pooling layers for spatial downsampling, dense layers for classification, and a dropout layer for regularization. The explicit declaration of the input shape ensures compatibility between the input data and the model architecture."
   ]
  },
  {
   "cell_type": "markdown",
   "id": "c7960678",
   "metadata": {
    "papermill": {
     "duration": 0.0119,
     "end_time": "2024-04-09T23:57:45.105657",
     "exception": false,
     "start_time": "2024-04-09T23:57:45.093757",
     "status": "completed"
    },
    "tags": []
   },
   "source": [
    "### Convolutional Layers:\n",
    "1. **Conv2D Layer (1st Layer)**:\n",
    "   - **Input**: X (Input Image)\n",
    "   - **Filters**: W_1 (32 Filters of size 3x3)\n",
    "   - **Convolution Operation**: \n",
    "     - Y_1 = ReLU(X * W_1 + b_1)\n",
    "   - **Output**: Y_1 (Feature Maps)\n",
    "\n",
    "2. **MaxPooling2D Layer (1st Layer)**:\n",
    "   - **Input**: Y_1 (Feature Maps)\n",
    "   - **Pooling Operation**: \n",
    "     - Y_2 = MaxPool(Y_1, (2, 2))\n",
    "   - **Output**: Y_2 (Downsampled Feature Maps)\n",
    "\n",
    "3. **Conv2D Layer (2nd Layer)**:\n",
    "   - **Input**: Y_2 (Downsampled Feature Maps)\n",
    "   - **Filters**: W_2 (64 Filters of size 3x3)\n",
    "   - **Convolution Operation**: \n",
    "     - Y_3 = ReLU(Y_2 * W_2 + b_2)\n",
    "   - **Output**: Y_3 (Feature Maps)\n",
    "\n",
    "4. **MaxPooling2D Layer (2nd Layer)**:\n",
    "   - **Input**: Y_3 (Feature Maps)\n",
    "   - **Pooling Operation**: \n",
    "     - Y_4 = MaxPool(Y_3, (2, 2))\n",
    "   - **Output**: Y_4 (Downsampled Feature Maps)\n",
    "\n",
    "### Dense Layers:\n",
    "5. **Flatten Layer**:\n",
    "   - **Input**: Y_4 (Downsampled Feature Maps)\n",
    "   - **Flattening Operation**: \n",
    "     - Y_5 = Flatten(Y_4)\n",
    "   - **Output**: Y_5 (Flattened Vector)\n",
    "\n",
    "6. **Dense Layer (1st Layer)**:\n",
    "   - **Input**: Y_5 (Flattened Vector)\n",
    "   - **Weights**: W_3 (Matrix with dimensions input_size x 128)\n",
    "   - **Bias**: b_3\n",
    "   - **Dense Operation**: \n",
    "     - Y_6 = ReLU(Y_5 * W_3 + b_3)\n",
    "   - **Output**: Y_6 (Vector of length 128)\n",
    "\n",
    "7. **Dropout Layer**:\n",
    "   - **Input**: Y_6 (Vector of length 128)\n",
    "   - **Dropout Operation**: \n",
    "     - Y_7 = Dropout(Y_6, 0.5)\n",
    "   - **Output**: Y_7 (Modified Vector with some units zeroed out)\n",
    "\n",
    "8. **Dense Layer (2nd Layer)**:\n",
    "   - **Input**: Y_7 (Modified Vector)\n",
    "   - **Weights**: W_4 (Matrix with dimensions 128 x 94)\n",
    "   - **Bias**: b_4\n",
    "   - **Dense Operation**: \n",
    "     - Y_8 = Softmax(Y_7 * W_4 + b_4)\n",
    "   - **Output**: Y_8 (Vector of length 94 representing the predicted probabilities for each class)\n",
    "\n",
    "In the convolutional layers, filters are applied to the input image, performing element-wise multiplication with local regions and summing the results to generate feature maps. These feature maps capture different aspects of the input data, and the Rectified Linear Unit (ReLU) activation function introduces non-linearity by replacing negative values with zeros, enhancing the model's ability to learn complex patterns.\n",
    "\n",
    "Max-pooling layers then downsample the feature maps by selecting the maximum value within localized regions, reducing computational complexity while retaining important features.\n",
    "\n",
    "In the dense layers, the feature maps are flattened into a one-dimensional vector, enabling connections between all units in the subsequent dense layers. Weight matrices and bias terms are applied to these vectors, and the ReLU activation function is again utilized to introduce non-linearity and capture higher-level representations. Dropout layers are inserted to randomly deactivate a fraction of neurons during training, preventing overfitting by promoting robustness and generalization.\n",
    "\n",
    "Finally, the softmax activation function in the last dense layer converts the network's outputs into a probability distribution over the possible classes, facilitating multi-class classification by selecting the class with the highest probability as the predicted label."
   ]
  },
  {
   "cell_type": "code",
   "execution_count": 12,
   "id": "b9a6ff1d",
   "metadata": {
    "execution": {
     "iopub.execute_input": "2024-04-09T23:57:45.134154Z",
     "iopub.status.busy": "2024-04-09T23:57:45.133814Z",
     "iopub.status.idle": "2024-04-09T23:57:45.175712Z",
     "shell.execute_reply": "2024-04-09T23:57:45.174812Z"
    },
    "papermill": {
     "duration": 0.058678,
     "end_time": "2024-04-09T23:57:45.177743",
     "exception": false,
     "start_time": "2024-04-09T23:57:45.119065",
     "status": "completed"
    },
    "tags": []
   },
   "outputs": [
    {
     "data": {
      "text/html": [
       "<pre style=\"white-space:pre;overflow-x:auto;line-height:normal;font-family:Menlo,'DejaVu Sans Mono',consolas,'Courier New',monospace\"><span style=\"font-weight: bold\">Model: \"sequential\"</span>\n",
       "</pre>\n"
      ],
      "text/plain": [
       "\u001b[1mModel: \"sequential\"\u001b[0m\n"
      ]
     },
     "metadata": {},
     "output_type": "display_data"
    },
    {
     "data": {
      "text/html": [
       "<pre style=\"white-space:pre;overflow-x:auto;line-height:normal;font-family:Menlo,'DejaVu Sans Mono',consolas,'Courier New',monospace\">┏━━━━━━━━━━━━━━━━━━━━━━━━━━━━━━━━━┳━━━━━━━━━━━━━━━━━━━━━━━━┳━━━━━━━━━━━━━━━┓\n",
       "┃<span style=\"font-weight: bold\"> Layer (type)                    </span>┃<span style=\"font-weight: bold\"> Output Shape           </span>┃<span style=\"font-weight: bold\">       Param # </span>┃\n",
       "┡━━━━━━━━━━━━━━━━━━━━━━━━━━━━━━━━━╇━━━━━━━━━━━━━━━━━━━━━━━━╇━━━━━━━━━━━━━━━┩\n",
       "│ conv2d (<span style=\"color: #0087ff; text-decoration-color: #0087ff\">Conv2D</span>)                 │ ?                      │   <span style=\"color: #00af00; text-decoration-color: #00af00\">0</span> (unbuilt) │\n",
       "├─────────────────────────────────┼────────────────────────┼───────────────┤\n",
       "│ max_pooling2d (<span style=\"color: #0087ff; text-decoration-color: #0087ff\">MaxPooling2D</span>)    │ ?                      │   <span style=\"color: #00af00; text-decoration-color: #00af00\">0</span> (unbuilt) │\n",
       "├─────────────────────────────────┼────────────────────────┼───────────────┤\n",
       "│ conv2d_1 (<span style=\"color: #0087ff; text-decoration-color: #0087ff\">Conv2D</span>)               │ ?                      │   <span style=\"color: #00af00; text-decoration-color: #00af00\">0</span> (unbuilt) │\n",
       "├─────────────────────────────────┼────────────────────────┼───────────────┤\n",
       "│ max_pooling2d_1 (<span style=\"color: #0087ff; text-decoration-color: #0087ff\">MaxPooling2D</span>)  │ ?                      │   <span style=\"color: #00af00; text-decoration-color: #00af00\">0</span> (unbuilt) │\n",
       "├─────────────────────────────────┼────────────────────────┼───────────────┤\n",
       "│ flatten (<span style=\"color: #0087ff; text-decoration-color: #0087ff\">Flatten</span>)               │ ?                      │   <span style=\"color: #00af00; text-decoration-color: #00af00\">0</span> (unbuilt) │\n",
       "├─────────────────────────────────┼────────────────────────┼───────────────┤\n",
       "│ dense (<span style=\"color: #0087ff; text-decoration-color: #0087ff\">Dense</span>)                   │ ?                      │   <span style=\"color: #00af00; text-decoration-color: #00af00\">0</span> (unbuilt) │\n",
       "├─────────────────────────────────┼────────────────────────┼───────────────┤\n",
       "│ dropout (<span style=\"color: #0087ff; text-decoration-color: #0087ff\">Dropout</span>)               │ ?                      │             <span style=\"color: #00af00; text-decoration-color: #00af00\">0</span> │\n",
       "├─────────────────────────────────┼────────────────────────┼───────────────┤\n",
       "│ dense_1 (<span style=\"color: #0087ff; text-decoration-color: #0087ff\">Dense</span>)                 │ ?                      │   <span style=\"color: #00af00; text-decoration-color: #00af00\">0</span> (unbuilt) │\n",
       "└─────────────────────────────────┴────────────────────────┴───────────────┘\n",
       "</pre>\n"
      ],
      "text/plain": [
       "┏━━━━━━━━━━━━━━━━━━━━━━━━━━━━━━━━━┳━━━━━━━━━━━━━━━━━━━━━━━━┳━━━━━━━━━━━━━━━┓\n",
       "┃\u001b[1m \u001b[0m\u001b[1mLayer (type)                   \u001b[0m\u001b[1m \u001b[0m┃\u001b[1m \u001b[0m\u001b[1mOutput Shape          \u001b[0m\u001b[1m \u001b[0m┃\u001b[1m \u001b[0m\u001b[1m      Param #\u001b[0m\u001b[1m \u001b[0m┃\n",
       "┡━━━━━━━━━━━━━━━━━━━━━━━━━━━━━━━━━╇━━━━━━━━━━━━━━━━━━━━━━━━╇━━━━━━━━━━━━━━━┩\n",
       "│ conv2d (\u001b[38;5;33mConv2D\u001b[0m)                 │ ?                      │   \u001b[38;5;34m0\u001b[0m (unbuilt) │\n",
       "├─────────────────────────────────┼────────────────────────┼───────────────┤\n",
       "│ max_pooling2d (\u001b[38;5;33mMaxPooling2D\u001b[0m)    │ ?                      │   \u001b[38;5;34m0\u001b[0m (unbuilt) │\n",
       "├─────────────────────────────────┼────────────────────────┼───────────────┤\n",
       "│ conv2d_1 (\u001b[38;5;33mConv2D\u001b[0m)               │ ?                      │   \u001b[38;5;34m0\u001b[0m (unbuilt) │\n",
       "├─────────────────────────────────┼────────────────────────┼───────────────┤\n",
       "│ max_pooling2d_1 (\u001b[38;5;33mMaxPooling2D\u001b[0m)  │ ?                      │   \u001b[38;5;34m0\u001b[0m (unbuilt) │\n",
       "├─────────────────────────────────┼────────────────────────┼───────────────┤\n",
       "│ flatten (\u001b[38;5;33mFlatten\u001b[0m)               │ ?                      │   \u001b[38;5;34m0\u001b[0m (unbuilt) │\n",
       "├─────────────────────────────────┼────────────────────────┼───────────────┤\n",
       "│ dense (\u001b[38;5;33mDense\u001b[0m)                   │ ?                      │   \u001b[38;5;34m0\u001b[0m (unbuilt) │\n",
       "├─────────────────────────────────┼────────────────────────┼───────────────┤\n",
       "│ dropout (\u001b[38;5;33mDropout\u001b[0m)               │ ?                      │             \u001b[38;5;34m0\u001b[0m │\n",
       "├─────────────────────────────────┼────────────────────────┼───────────────┤\n",
       "│ dense_1 (\u001b[38;5;33mDense\u001b[0m)                 │ ?                      │   \u001b[38;5;34m0\u001b[0m (unbuilt) │\n",
       "└─────────────────────────────────┴────────────────────────┴───────────────┘\n"
      ]
     },
     "metadata": {},
     "output_type": "display_data"
    },
    {
     "data": {
      "text/html": [
       "<pre style=\"white-space:pre;overflow-x:auto;line-height:normal;font-family:Menlo,'DejaVu Sans Mono',consolas,'Courier New',monospace\"><span style=\"font-weight: bold\"> Total params: </span><span style=\"color: #00af00; text-decoration-color: #00af00\">0</span> (0.00 B)\n",
       "</pre>\n"
      ],
      "text/plain": [
       "\u001b[1m Total params: \u001b[0m\u001b[38;5;34m0\u001b[0m (0.00 B)\n"
      ]
     },
     "metadata": {},
     "output_type": "display_data"
    },
    {
     "data": {
      "text/html": [
       "<pre style=\"white-space:pre;overflow-x:auto;line-height:normal;font-family:Menlo,'DejaVu Sans Mono',consolas,'Courier New',monospace\"><span style=\"font-weight: bold\"> Trainable params: </span><span style=\"color: #00af00; text-decoration-color: #00af00\">0</span> (0.00 B)\n",
       "</pre>\n"
      ],
      "text/plain": [
       "\u001b[1m Trainable params: \u001b[0m\u001b[38;5;34m0\u001b[0m (0.00 B)\n"
      ]
     },
     "metadata": {},
     "output_type": "display_data"
    },
    {
     "data": {
      "text/html": [
       "<pre style=\"white-space:pre;overflow-x:auto;line-height:normal;font-family:Menlo,'DejaVu Sans Mono',consolas,'Courier New',monospace\"><span style=\"font-weight: bold\"> Non-trainable params: </span><span style=\"color: #00af00; text-decoration-color: #00af00\">0</span> (0.00 B)\n",
       "</pre>\n"
      ],
      "text/plain": [
       "\u001b[1m Non-trainable params: \u001b[0m\u001b[38;5;34m0\u001b[0m (0.00 B)\n"
      ]
     },
     "metadata": {},
     "output_type": "display_data"
    }
   ],
   "source": [
    "# Compile the model\n",
    "model.compile(optimizer='adam', loss='categorical_crossentropy', metrics=['accuracy'])\n",
    "\n",
    "# Print model summary\n",
    "model.summary()"
   ]
  },
  {
   "cell_type": "markdown",
   "id": "a37541c3",
   "metadata": {
    "papermill": {
     "duration": 0.013503,
     "end_time": "2024-04-09T23:57:45.204708",
     "exception": false,
     "start_time": "2024-04-09T23:57:45.191205",
     "status": "completed"
    },
    "tags": []
   },
   "source": [
    "# Step 4: Training the Model"
   ]
  },
  {
   "cell_type": "code",
   "execution_count": 13,
   "id": "521e0b2c",
   "metadata": {
    "execution": {
     "iopub.execute_input": "2024-04-09T23:57:45.233453Z",
     "iopub.status.busy": "2024-04-09T23:57:45.232619Z",
     "iopub.status.idle": "2024-04-10T00:04:04.231511Z",
     "shell.execute_reply": "2024-04-10T00:04:04.230459Z"
    },
    "papermill": {
     "duration": 379.015738,
     "end_time": "2024-04-10T00:04:04.233894",
     "exception": false,
     "start_time": "2024-04-09T23:57:45.218156",
     "status": "completed"
    },
    "tags": []
   },
   "outputs": [
    {
     "name": "stdout",
     "output_type": "stream",
     "text": [
      "Epoch 1/20\n",
      "\u001b[1m  60/6853\u001b[0m \u001b[37m━━━━━━━━━━━━━━━━━━━━\u001b[0m \u001b[1m17s\u001b[0m 3ms/step - accuracy: 0.0255 - loss: 4.4829"
     ]
    },
    {
     "name": "stderr",
     "output_type": "stream",
     "text": [
      "WARNING: All log messages before absl::InitializeLog() is called are written to STDERR\n",
      "I0000 00:00:1712707074.429263      71 device_compiler.h:186] Compiled cluster using XLA!  This line is logged at most once for the lifetime of the process.\n",
      "W0000 00:00:1712707074.448536      71 graph_launch.cc:671] Fallback to op-by-op mode because memset node breaks graph update\n"
     ]
    },
    {
     "name": "stdout",
     "output_type": "stream",
     "text": [
      "\u001b[1m6853/6853\u001b[0m \u001b[32m━━━━━━━━━━━━━━━━━━━━\u001b[0m\u001b[37m\u001b[0m \u001b[1m0s\u001b[0m 3ms/step - accuracy: 0.6537 - loss: 1.2873"
     ]
    },
    {
     "name": "stderr",
     "output_type": "stream",
     "text": [
      "W0000 00:00:1712707093.131749      70 graph_launch.cc:671] Fallback to op-by-op mode because memset node breaks graph update\n",
      "W0000 00:00:1712707094.168680      70 graph_launch.cc:671] Fallback to op-by-op mode because memset node breaks graph update\n"
     ]
    },
    {
     "name": "stdout",
     "output_type": "stream",
     "text": [
      "\u001b[1m6853/6853\u001b[0m \u001b[32m━━━━━━━━━━━━━━━━━━━━\u001b[0m\u001b[37m\u001b[0m \u001b[1m30s\u001b[0m 3ms/step - accuracy: 0.6537 - loss: 1.2872 - val_accuracy: 0.8877 - val_loss: 0.3474\n",
      "Epoch 2/20\n",
      "\u001b[1m  73/6853\u001b[0m \u001b[37m━━━━━━━━━━━━━━━━━━━━\u001b[0m \u001b[1m14s\u001b[0m 2ms/step - accuracy: 0.8424 - loss: 0.4837"
     ]
    },
    {
     "name": "stderr",
     "output_type": "stream",
     "text": [
      "W0000 00:00:1712707097.388853      71 graph_launch.cc:671] Fallback to op-by-op mode because memset node breaks graph update\n"
     ]
    },
    {
     "name": "stdout",
     "output_type": "stream",
     "text": [
      "\u001b[1m6853/6853\u001b[0m \u001b[32m━━━━━━━━━━━━━━━━━━━━\u001b[0m\u001b[37m\u001b[0m \u001b[1m18s\u001b[0m 3ms/step - accuracy: 0.8529 - loss: 0.4783 - val_accuracy: 0.9122 - val_loss: 0.2838\n",
      "Epoch 3/20\n",
      "\u001b[1m6853/6853\u001b[0m \u001b[32m━━━━━━━━━━━━━━━━━━━━\u001b[0m\u001b[37m\u001b[0m \u001b[1m19s\u001b[0m 3ms/step - accuracy: 0.8843 - loss: 0.3819 - val_accuracy: 0.9246 - val_loss: 0.2458\n",
      "Epoch 4/20\n",
      "\u001b[1m6853/6853\u001b[0m \u001b[32m━━━━━━━━━━━━━━━━━━━━\u001b[0m\u001b[37m\u001b[0m \u001b[1m18s\u001b[0m 3ms/step - accuracy: 0.8955 - loss: 0.3398 - val_accuracy: 0.9281 - val_loss: 0.2374\n",
      "Epoch 5/20\n",
      "\u001b[1m6853/6853\u001b[0m \u001b[32m━━━━━━━━━━━━━━━━━━━━\u001b[0m\u001b[37m\u001b[0m \u001b[1m18s\u001b[0m 3ms/step - accuracy: 0.9054 - loss: 0.3054 - val_accuracy: 0.9315 - val_loss: 0.2250\n",
      "Epoch 6/20\n",
      "\u001b[1m6853/6853\u001b[0m \u001b[32m━━━━━━━━━━━━━━━━━━━━\u001b[0m\u001b[37m\u001b[0m \u001b[1m18s\u001b[0m 3ms/step - accuracy: 0.9110 - loss: 0.2869 - val_accuracy: 0.9325 - val_loss: 0.2205\n",
      "Epoch 7/20\n",
      "\u001b[1m6853/6853\u001b[0m \u001b[32m━━━━━━━━━━━━━━━━━━━━\u001b[0m\u001b[37m\u001b[0m \u001b[1m18s\u001b[0m 3ms/step - accuracy: 0.9139 - loss: 0.2764 - val_accuracy: 0.9355 - val_loss: 0.2106\n",
      "Epoch 8/20\n",
      "\u001b[1m6853/6853\u001b[0m \u001b[32m━━━━━━━━━━━━━━━━━━━━\u001b[0m\u001b[37m\u001b[0m \u001b[1m18s\u001b[0m 3ms/step - accuracy: 0.9180 - loss: 0.2587 - val_accuracy: 0.9349 - val_loss: 0.2115\n",
      "Epoch 9/20\n",
      "\u001b[1m6853/6853\u001b[0m \u001b[32m━━━━━━━━━━━━━━━━━━━━\u001b[0m\u001b[37m\u001b[0m \u001b[1m18s\u001b[0m 3ms/step - accuracy: 0.9188 - loss: 0.2523 - val_accuracy: 0.9363 - val_loss: 0.2106\n",
      "Epoch 10/20\n",
      "\u001b[1m6853/6853\u001b[0m \u001b[32m━━━━━━━━━━━━━━━━━━━━\u001b[0m\u001b[37m\u001b[0m \u001b[1m18s\u001b[0m 3ms/step - accuracy: 0.9222 - loss: 0.2413 - val_accuracy: 0.9340 - val_loss: 0.2143\n",
      "Epoch 11/20\n",
      "\u001b[1m6853/6853\u001b[0m \u001b[32m━━━━━━━━━━━━━━━━━━━━\u001b[0m\u001b[37m\u001b[0m \u001b[1m18s\u001b[0m 3ms/step - accuracy: 0.9242 - loss: 0.2361 - val_accuracy: 0.9360 - val_loss: 0.2166\n",
      "Epoch 12/20\n",
      "\u001b[1m6853/6853\u001b[0m \u001b[32m━━━━━━━━━━━━━━━━━━━━\u001b[0m\u001b[37m\u001b[0m \u001b[1m18s\u001b[0m 3ms/step - accuracy: 0.9249 - loss: 0.2320 - val_accuracy: 0.9365 - val_loss: 0.2145\n",
      "Epoch 13/20\n",
      "\u001b[1m6853/6853\u001b[0m \u001b[32m━━━━━━━━━━━━━━━━━━━━\u001b[0m\u001b[37m\u001b[0m \u001b[1m18s\u001b[0m 3ms/step - accuracy: 0.9252 - loss: 0.2283 - val_accuracy: 0.9382 - val_loss: 0.2045\n",
      "Epoch 14/20\n",
      "\u001b[1m6853/6853\u001b[0m \u001b[32m━━━━━━━━━━━━━━━━━━━━\u001b[0m\u001b[37m\u001b[0m \u001b[1m18s\u001b[0m 3ms/step - accuracy: 0.9283 - loss: 0.2212 - val_accuracy: 0.9383 - val_loss: 0.2124\n",
      "Epoch 15/20\n",
      "\u001b[1m6853/6853\u001b[0m \u001b[32m━━━━━━━━━━━━━━━━━━━━\u001b[0m\u001b[37m\u001b[0m \u001b[1m18s\u001b[0m 3ms/step - accuracy: 0.9292 - loss: 0.2182 - val_accuracy: 0.9396 - val_loss: 0.2034\n",
      "Epoch 16/20\n",
      "\u001b[1m6853/6853\u001b[0m \u001b[32m━━━━━━━━━━━━━━━━━━━━\u001b[0m\u001b[37m\u001b[0m \u001b[1m18s\u001b[0m 3ms/step - accuracy: 0.9292 - loss: 0.2154 - val_accuracy: 0.9376 - val_loss: 0.2069\n",
      "Epoch 17/20\n",
      "\u001b[1m6853/6853\u001b[0m \u001b[32m━━━━━━━━━━━━━━━━━━━━\u001b[0m\u001b[37m\u001b[0m \u001b[1m18s\u001b[0m 3ms/step - accuracy: 0.9298 - loss: 0.2130 - val_accuracy: 0.9386 - val_loss: 0.2126\n",
      "Epoch 18/20\n",
      "\u001b[1m6853/6853\u001b[0m \u001b[32m━━━━━━━━━━━━━━━━━━━━\u001b[0m\u001b[37m\u001b[0m \u001b[1m18s\u001b[0m 3ms/step - accuracy: 0.9307 - loss: 0.2108 - val_accuracy: 0.9391 - val_loss: 0.2063\n",
      "Epoch 19/20\n",
      "\u001b[1m6853/6853\u001b[0m \u001b[32m━━━━━━━━━━━━━━━━━━━━\u001b[0m\u001b[37m\u001b[0m \u001b[1m18s\u001b[0m 3ms/step - accuracy: 0.9306 - loss: 0.2080 - val_accuracy: 0.9381 - val_loss: 0.2140\n",
      "Epoch 20/20\n",
      "\u001b[1m6853/6853\u001b[0m \u001b[32m━━━━━━━━━━━━━━━━━━━━\u001b[0m\u001b[37m\u001b[0m \u001b[1m18s\u001b[0m 3ms/step - accuracy: 0.9309 - loss: 0.2077 - val_accuracy: 0.9405 - val_loss: 0.2030\n"
     ]
    }
   ],
   "source": [
    "# Train the model\n",
    "history =model.fit(X_train, y_train, epochs=20, batch_size=32, validation_data=(X_test, y_test))"
   ]
  },
  {
   "cell_type": "markdown",
   "id": "c330437a",
   "metadata": {
    "papermill": {
     "duration": 0.51956,
     "end_time": "2024-04-10T00:04:05.307266",
     "exception": false,
     "start_time": "2024-04-10T00:04:04.787706",
     "status": "completed"
    },
    "tags": []
   },
   "source": [
    "# Step 5: Evaluation of the Model "
   ]
  },
  {
   "cell_type": "code",
   "execution_count": 14,
   "id": "8f1a36c7",
   "metadata": {
    "execution": {
     "iopub.execute_input": "2024-04-10T00:04:06.421568Z",
     "iopub.status.busy": "2024-04-10T00:04:06.421210Z",
     "iopub.status.idle": "2024-04-10T00:04:09.737536Z",
     "shell.execute_reply": "2024-04-10T00:04:09.736437Z"
    },
    "papermill": {
     "duration": 3.840067,
     "end_time": "2024-04-10T00:04:09.739654",
     "exception": false,
     "start_time": "2024-04-10T00:04:05.899587",
     "status": "completed"
    },
    "tags": []
   },
   "outputs": [
    {
     "name": "stdout",
     "output_type": "stream",
     "text": [
      "\u001b[1m1714/1714\u001b[0m \u001b[32m━━━━━━━━━━━━━━━━━━━━\u001b[0m\u001b[37m\u001b[0m \u001b[1m3s\u001b[0m 2ms/step - accuracy: 0.9399 - loss: 0.2045\n",
      "Test Accuracy: 94.05%\n",
      "Test Loss: 0.2030\n"
     ]
    }
   ],
   "source": [
    "# Evaluate the model on test data\n",
    "loss, accuracy = model.evaluate(X_test, y_test)\n",
    "\n",
    "# Convert accuracy to percentage\n",
    "accuracy_percentage = accuracy * 100\n",
    "\n",
    "print(f'Test Accuracy: {accuracy_percentage:.2f}%')\n",
    "print(f'Test Loss: {loss:.4f}')"
   ]
  },
  {
   "cell_type": "markdown",
   "id": "430503df",
   "metadata": {
    "papermill": {
     "duration": 0.534515,
     "end_time": "2024-04-10T00:04:10.797853",
     "exception": false,
     "start_time": "2024-04-10T00:04:10.263338",
     "status": "completed"
    },
    "tags": []
   },
   "source": [
    "The evaluation of the trained convolutional neural network (CNN) model on the testing data yielded promising results.\n",
    "The model achieved a test accuracy of 94.04% and a test loss of 0.2081, indicating that it performs well in classifying handwritten digits from the TMNIST dataset. \n",
    "\n",
    "These metrics suggest that the model can effectively generalize to unseen data, showcasing its potential for real-world applications such as optical character recognition. \n",
    "\n",
    "To gain further insights into the model's performance, additional analysis could be conducted through visualizations such as confusion matrices, which provide a detailed breakdown of classification errors, and precision-recall curves, which offer a comprehensive view of the model's precision and recall across different thresholds.\n",
    "\n",
    "By leveraging such visualizations, we can delve deeper into understanding the model's strengths and weaknesses and identify potential areas for improvement."
   ]
  },
  {
   "cell_type": "markdown",
   "id": "629be50b",
   "metadata": {
    "papermill": {
     "duration": 0.566153,
     "end_time": "2024-04-10T00:04:11.889329",
     "exception": false,
     "start_time": "2024-04-10T00:04:11.323176",
     "status": "completed"
    },
    "tags": []
   },
   "source": [
    "# Step 6: Visualising the Results and losses."
   ]
  },
  {
   "cell_type": "markdown",
   "id": "f7f7dba1",
   "metadata": {
    "papermill": {
     "duration": 0.522981,
     "end_time": "2024-04-10T00:04:12.941747",
     "exception": false,
     "start_time": "2024-04-10T00:04:12.418766",
     "status": "completed"
    },
    "tags": []
   },
   "source": [
    "Plotting the training and validation loss helps in monitoring the training progress, diagnosing potential issues like overfitting or underfitting, and optimizing the model's performance for better generalization to unseen data."
   ]
  },
  {
   "cell_type": "markdown",
   "id": "3a8bf0d6",
   "metadata": {
    "papermill": {
     "duration": 0.547066,
     "end_time": "2024-04-10T00:04:14.099122",
     "exception": false,
     "start_time": "2024-04-10T00:04:13.552056",
     "status": "completed"
    },
    "tags": []
   },
   "source": [
    "#### Training and Validation Loss - Loss vs Epoch"
   ]
  },
  {
   "cell_type": "code",
   "execution_count": 15,
   "id": "bf183ef7",
   "metadata": {
    "execution": {
     "iopub.execute_input": "2024-04-10T00:04:15.208452Z",
     "iopub.status.busy": "2024-04-10T00:04:15.207468Z",
     "iopub.status.idle": "2024-04-10T00:04:15.608018Z",
     "shell.execute_reply": "2024-04-10T00:04:15.606960Z"
    },
    "papermill": {
     "duration": 0.939204,
     "end_time": "2024-04-10T00:04:15.609983",
     "exception": false,
     "start_time": "2024-04-10T00:04:14.670779",
     "status": "completed"
    },
    "tags": []
   },
   "outputs": [
    {
     "data": {
      "image/png": "[encoded data removed]",
      "text/plain": [
       "<Figure size 1000x500 with 1 Axes>"
      ]
     },
     "metadata": {},
     "output_type": "display_data"
    }
   ],
   "source": [
    "import matplotlib.pyplot as plt\n",
    "from sklearn.metrics import roc_curve, auc\n",
    "\n",
    "# Plot training and validation loss\n",
    "plt.figure(figsize=(10, 5))\n",
    "plt.plot(history.history['loss'], label='Training Loss')\n",
    "plt.plot(history.history['val_loss'], label='Validation Loss')\n",
    "plt.title('Training and Validation Loss')\n",
    "plt.xlabel('Epoch')\n",
    "plt.ylabel('Loss')\n",
    "plt.legend()\n",
    "plt.show()"
   ]
  },
  {
   "cell_type": "markdown",
   "id": "6ac94812",
   "metadata": {
    "papermill": {
     "duration": 0.530788,
     "end_time": "2024-04-10T00:04:16.668269",
     "exception": false,
     "start_time": "2024-04-10T00:04:16.137481",
     "status": "completed"
    },
    "tags": []
   },
   "source": [
    "Training Loss (Blue Line): This line shows the model’s loss on the training data. It starts at a higher value but decreases more steadily as the number of epochs increases. This indicates that the model is learning and improving its performance on the training data over time.\n",
    "\n",
    "Validation Loss (Orange Line): This line represents the model’s loss on the validation data. It also decreases as the number of epochs increases, but not as rapidly or consistently as the training loss.\n",
    "\n",
    "Inference: The decreasing trend in both training and validation loss suggests that the model is learning from the training process and its performance is improving. However, the slower decrease in validation loss compared to training loss might indicate that the model is not generalizing as well to new, unseen data. This could potentially lead to overfitting if the training continues for too many epochs. Monitoring both these metrics is crucial during the training process to ensure the model is learning effectively and not just memorizing the training data."
   ]
  },
  {
   "cell_type": "markdown",
   "id": "fe13d710",
   "metadata": {
    "papermill": {
     "duration": 0.518818,
     "end_time": "2024-04-10T00:04:17.782395",
     "exception": false,
     "start_time": "2024-04-10T00:04:17.263577",
     "status": "completed"
    },
    "tags": []
   },
   "source": [
    "#### Training and Validation Accuracy - Accuracy vs Epoch"
   ]
  },
  {
   "cell_type": "code",
   "execution_count": 16,
   "id": "2e0d4d46",
   "metadata": {
    "execution": {
     "iopub.execute_input": "2024-04-10T00:04:18.899178Z",
     "iopub.status.busy": "2024-04-10T00:04:18.898834Z",
     "iopub.status.idle": "2024-04-10T00:04:19.228976Z",
     "shell.execute_reply": "2024-04-10T00:04:19.227927Z"
    },
    "papermill": {
     "duration": 0.907063,
     "end_time": "2024-04-10T00:04:19.231378",
     "exception": false,
     "start_time": "2024-04-10T00:04:18.324315",
     "status": "completed"
    },
    "tags": []
   },
   "outputs": [
    {
     "data": {
      "image/png": "[encoded data removed]",
      "text/plain": [
       "<Figure size 1000x500 with 1 Axes>"
      ]
     },
     "metadata": {},
     "output_type": "display_data"
    }
   ],
   "source": [
    "\n",
    "# Plot training and validation accuracy\n",
    "plt.figure(figsize=(10, 5))\n",
    "plt.plot(history.history['accuracy'], label='Training Accuracy')\n",
    "plt.plot(history.history['val_accuracy'], label='Validation Accuracy')\n",
    "plt.title('Training and Validation Accuracy')\n",
    "plt.xlabel('Epoch')\n",
    "plt.ylabel('Accuracy')\n",
    "plt.legend()\n",
    "plt.show()"
   ]
  },
  {
   "cell_type": "markdown",
   "id": "ab98503c",
   "metadata": {
    "papermill": {
     "duration": 0.523809,
     "end_time": "2024-04-10T00:04:20.288929",
     "exception": false,
     "start_time": "2024-04-10T00:04:19.765120",
     "status": "completed"
    },
    "tags": []
   },
   "source": [
    "Training Accuracy (Blue Line): This line shows the model’s accuracy on the training data. It starts at a lower value but increases as the number of epochs increases. This indicates that the model is learning and improving its performance on the training data over time.\n",
    "\n",
    "Validation Accuracy (Orange Line): This line represents the model’s accuracy on the validation data. It also increases as the number of epochs increases, but not as rapidly as the training accuracy.\n",
    "\n",
    "Inference: The increasing trend in both training and validation accuracy suggests that the model is learning from the training process and its performance is improving. However, the slower increase in validation accuracy compared to training accuracy might indicate that the model is not generalizing as well to new, unseen data. This could potentially lead to overfitting if the training continues for too many epochs. Monitoring both these metrics is crucial during the training process to ensure the model is learning effectively and not just memorizing the training data."
   ]
  },
  {
   "cell_type": "markdown",
   "id": "dcdd7e05",
   "metadata": {
    "papermill": {
     "duration": 0.532749,
     "end_time": "2024-04-10T00:04:21.351888",
     "exception": false,
     "start_time": "2024-04-10T00:04:20.819139",
     "status": "completed"
    },
    "tags": []
   },
   "source": [
    "#### Model Accucary Plot"
   ]
  },
  {
   "cell_type": "code",
   "execution_count": 17,
   "id": "50f41a95",
   "metadata": {
    "execution": {
     "iopub.execute_input": "2024-04-10T00:04:22.461752Z",
     "iopub.status.busy": "2024-04-10T00:04:22.461029Z",
     "iopub.status.idle": "2024-04-10T00:04:22.774953Z",
     "shell.execute_reply": "2024-04-10T00:04:22.774088Z"
    },
    "papermill": {
     "duration": 0.852345,
     "end_time": "2024-04-10T00:04:22.777145",
     "exception": false,
     "start_time": "2024-04-10T00:04:21.924800",
     "status": "completed"
    },
    "tags": []
   },
   "outputs": [
    {
     "data": {
      "image/png": "[encoded data removed]",
      "text/plain": [
       "<Figure size 1400x600 with 1 Axes>"
      ]
     },
     "metadata": {},
     "output_type": "display_data"
    }
   ],
   "source": [
    "# Plot accuracy versus epochs\n",
    "plt.figure(figsize=(14, 6))\n",
    "plt.subplot(1,2,1)\n",
    "epochs=np.arange(100)\n",
    "plt.plot(history.history['accuracy'],label='train', color='#FF4500')\n",
    "plt.plot(history.history['val_accuracy'],label='test', color='#306844')\n",
    "plt.title('Model Accuracy')\n",
    "plt.ylabel('Accuracy')\n",
    "plt.xlabel('Epoch')\n",
    "plt.legend(['Train', 'Validation'], loc='upper left')\n",
    "plt.show()"
   ]
  },
  {
   "cell_type": "markdown",
   "id": "54c7b99e",
   "metadata": {
    "papermill": {
     "duration": 0.542898,
     "end_time": "2024-04-10T00:04:23.852717",
     "exception": false,
     "start_time": "2024-04-10T00:04:23.309819",
     "status": "completed"
    },
    "tags": []
   },
   "source": [
    "Training Accuracy (Blue Line): This line shows the model’s accuracy on the training data. It starts at a lower value but increases as the number of epochs increases, indicating that the model is learning and improving its performance on the training data over time.\n",
    "\n",
    "Validation Accuracy (Orange Line): This line represents the model’s accuracy on the validation data. It also increases as the number of epochs increases, but not as rapidly as the training accuracy.\n",
    "\n",
    "Inference: The increasing trend in both training and validation accuracy suggests that the model is learning from the training process and its performance is improving. However, the slower increase in validation accuracy compared to training accuracy might indicate that the model is not generalizing as well to new, unseen data. This could potentially lead to overfitting if the training continues for too many epochs. Monitoring both these metrics is crucial during the training process to ensure the model is learning effectively and not just memorizing the training data. The plateauing of both accuracies indicates that the model’s learning has stabilized. Further training may not significantly improve the model’s performance."
   ]
  },
  {
   "cell_type": "code",
   "execution_count": 18,
   "id": "1117befa",
   "metadata": {
    "execution": {
     "iopub.execute_input": "2024-04-10T00:04:24.999309Z",
     "iopub.status.busy": "2024-04-10T00:04:24.998959Z",
     "iopub.status.idle": "2024-04-10T00:04:25.244552Z",
     "shell.execute_reply": "2024-04-10T00:04:25.243605Z"
    },
    "papermill": {
     "duration": 0.807352,
     "end_time": "2024-04-10T00:04:25.246726",
     "exception": false,
     "start_time": "2024-04-10T00:04:24.439374",
     "status": "completed"
    },
    "tags": []
   },
   "outputs": [
    {
     "data": {
      "image/png": "[encoded data removed]",
      "text/plain": [
       "<Figure size 640x480 with 1 Axes>"
      ]
     },
     "metadata": {},
     "output_type": "display_data"
    }
   ],
   "source": [
    "# Plot loss versus epochs\n",
    "plt.plot(history.history['loss'],label='train', color='#FF4500')\n",
    "plt.plot(history.history['val_loss'],label='test', color='#306844')\n",
    "plt.title('Model Loss')\n",
    "plt.xlabel('Epoch')\n",
    "plt.ylabel('Loss')\n",
    "plt.legend(['Train', 'Validation'])\n",
    "plt.show()"
   ]
  },
  {
   "cell_type": "markdown",
   "id": "a07899d3",
   "metadata": {
    "papermill": {
     "duration": 0.532891,
     "end_time": "2024-04-10T00:04:26.310329",
     "exception": false,
     "start_time": "2024-04-10T00:04:25.777438",
     "status": "completed"
    },
    "tags": []
   },
   "source": [
    "Training Loss (Red Line): This line shows the model’s loss on the training data. It starts at a higher value but decreases as the number of epochs increases, indicating that the model is learning and improving its performance on the training data over time.\n",
    "\n",
    "Validation Loss (Green Line): This line represents the model’s loss on the validation data. It also decreases as the number of epochs increases, but not as rapidly as the training loss.\n",
    "\n",
    "Inference: The decreasing trend in both training and validation loss suggests that the model is learning from the training process and its performance is improving. However, the slower decrease in validation loss compared to training loss might indicate that the model is not generalizing as well to new, unseen data. This could potentially lead to overfitting if the training continues for too many epochs. Monitoring both these metrics is crucial during the training process to ensure the model is learning effectively and not just memorizing the training data. The leveling off of both losses indicates that the model’s learning has stabilized. Further training may not significantly improve the model’s performance."
   ]
  },
  {
   "cell_type": "markdown",
   "id": "628ea9c2",
   "metadata": {
    "papermill": {
     "duration": 0.586934,
     "end_time": "2024-04-10T00:04:27.425623",
     "exception": false,
     "start_time": "2024-04-10T00:04:26.838689",
     "status": "completed"
    },
    "tags": []
   },
   "source": [
    "# Conclusion\n",
    "In this tutorial, we've explored the process of building a handwritten digit classification model using the TMNIST dataset. By following these steps, once can develop our own  neural network model for handwritten digit recognition. Handwritten digit classification is a fascinating area of study with numerous real-world applications, and mastering it opens up exciting opportunities in machine learning and computer vision."
   ]
  },
  {
   "cell_type": "markdown",
   "id": "a145f506",
   "metadata": {
    "papermill": {
     "duration": 0.540815,
     "end_time": "2024-04-10T00:04:28.497098",
     "exception": false,
     "start_time": "2024-04-10T00:04:27.956283",
     "status": "completed"
    },
    "tags": []
   },
   "source": [
    "# References"
   ]
  },
  {
   "cell_type": "markdown",
   "id": "8b6275e2",
   "metadata": {
    "papermill": {
     "duration": 0.529397,
     "end_time": "2024-04-10T00:04:29.618887",
     "exception": false,
     "start_time": "2024-04-10T00:04:29.089490",
     "status": "completed"
    },
    "tags": []
   },
   "source": [
    "* https://www.tensorflow.org/quantum/tutorials/mnist\n",
    "* https://www.youtube.com/watch?v=iqQgED9vV7k\n",
    "* https://www.kaggle.com/code/huchunjun/99-1-tmnist-typefacemnist-chunjunhu\n",
    "* https://www.kaggle.com/code/sheshngupta/tminst-character-recognition-94-4-accuracy"
   ]
  },
  {
   "cell_type": "markdown",
   "id": "6bba2226",
   "metadata": {
    "papermill": {
     "duration": 0.530585,
     "end_time": "2024-04-10T00:04:30.681632",
     "exception": false,
     "start_time": "2024-04-10T00:04:30.151047",
     "status": "completed"
    },
    "tags": []
   },
   "source": [
    "MIT License\n",
    "\n",
    "Copyright (c) 2024 Shreyas Sreedhar\n",
    "\n",
    "Permission is hereby granted, free of charge, to any person obtaining a copy\n",
    "of this software and associated documentation files (the \"Software\"), to deal\n",
    "in the Software without restriction, including without limitation the rights\n",
    "to use, copy, modify, merge, publish, distribute, sublicense, and/or sell\n",
    "copies of the Software, and to permit persons to whom the Software is\n",
    "furnished to do so, subject to the following conditions:\n",
    "\n",
    "The above copyright notice and this permission notice shall be included in all\n",
    "copies or substantial portions of the Software.\n",
    "\n",
    "THE SOFTWARE IS PROVIDED \"AS IS\", WITHOUT WARRANTY OF ANY KIND, EXPRESS OR\n",
    "IMPLIED, INCLUDING BUT NOT LIMITED TO THE WARRANTIES OF MERCHANTABILITY,\n",
    "FITNESS FOR A PARTICULAR PURPOSE AND NONINFRINGEMENT. IN NO EVENT SHALL THE\n",
    "AUTHORS OR COPYRIGHT HOLDERS BE LIABLE FOR ANY CLAIM, DAMAGES OR OTHER\n",
    "LIABILITY, WHETHER IN AN ACTION OF CONTRACT, TORT OR OTHERWISE, ARISING FROM,\n",
    "OUT OF OR IN CONNECTION WITH THE SOFTWARE OR THE USE OR OTHER DEALINGS IN THE\n",
    "SOFTWARE."
   ]
  }
 ],
 "metadata": {
  "kaggle": {
   "accelerator": "nvidiaTeslaT4",
   "dataSources": [
    {
     "datasetId": 1564532,
     "sourceId": 2830968,
     "sourceType": "datasetVersion"
    }
   ],
   "dockerImageVersionId": 30683,
   "isGpuEnabled": true,
   "isInternetEnabled": false,
   "language": "python",
   "sourceType": "notebook"
  },
  "kernelspec": {
   "display_name": "Python 3",
   "language": "python",
   "name": "python3"
  },
  "language_info": {
   "codemirror_mode": {
    "name": "ipython",
    "version": 3
   },
   "file_extension": ".py",
   "mimetype": "text/x-python",
   "name": "python",
   "nbconvert_exporter": "python",
   "pygments_lexer": "ipython3",
   "version": "3.10.13"
  },
  "papermill": {
   "default_parameters": {},
   "duration": 483.665395,
   "end_time": "2024-04-10T00:04:34.660181",
   "environment_variables": {},
   "exception": null,
   "input_path": "__notebook__.ipynb",
   "output_path": "__notebook__.ipynb",
   "parameters": {},
   "start_time": "2024-04-09T23:56:30.994786",
   "version": "2.5.0"
  }
 },
 "nbformat": 4,
 "nbformat_minor": 5
}
